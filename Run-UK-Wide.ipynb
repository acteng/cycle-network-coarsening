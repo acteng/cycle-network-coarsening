{
 "cells": [
  {
   "cell_type": "markdown",
   "metadata": {},
   "source": [
    "### Run UK Wide"
   ]
  },
  {
   "cell_type": "code",
   "execution_count": 1,
   "metadata": {},
   "outputs": [],
   "source": [
    "# Import modules etc\n",
    "from helper_functions import expand_bbox, create_bounding_box, create_graph, get_edges_from_geom, assign_weights, compute_pareto_fronts, dict_to_array, generate_reference_point, hypervolume, spread_diversity, compute_signed_area, compute_trade_off_rate, haversine_distance\n",
    "import psycopg2\n",
    "import pyproj\n",
    "from dotenv import load_dotenv\n",
    "import os\n",
    "import geopandas as gpd\n",
    "import pandas as pd\n",
    "import numpy as np\n",
    "from geopy.distance import geodesic\n",
    "import math\n",
    "from shapely.geometry import box, Point\n",
    "import networkx as nx\n",
    "import pickle\n",
    "\n",
    "\n",
    "def calculate_haversine_distance(lat1, lon1, lat2, lon2):\n",
    "    \"\"\"Calculate Haversine distance between two points in kilometers.\"\"\"\n",
    "    return geodesic((lat1, lon1), (lat2, lon2)).kilometers\n",
    "\n",
    "def calculate_haversine_bounding_box(point, distance_km):\n",
    "    \"\"\"\n",
    "    Calculate a bounding box using Haversine distance around a Point (lat, lon) extended by the given distance.\n",
    "\n",
    "    Args:\n",
    "        point: A geopy Point object with latitude and longitude.\n",
    "        distance_km: Distance to extend the bounding box in kilometers.\n",
    "\n",
    "    Returns:\n",
    "        A dictionary representing the bounding box with 'min_lat', 'max_lat', 'min_lon', and 'max_lon'.\n",
    "    \"\"\"\n",
    "    # Haversine formula uses Earth's radius in kilometers\n",
    "    earth_radius_km = 6371.0\n",
    "\n",
    "    # Convert the distance to radians (distance / Earth's radius)\n",
    "    distance_rad = distance_km / earth_radius_km\n",
    "\n",
    "    # Latitude and longitude in radians\n",
    "    lat_rad = math.radians(point.centroid.y)\n",
    "    lon_rad = math.radians(point.centroid.x)\n",
    "\n",
    "    # Calculate latitude bounds\n",
    "    min_lat = math.degrees(lat_rad - distance_rad)\n",
    "    max_lat = math.degrees(lat_rad + distance_rad)\n",
    "\n",
    "    # Calculate longitude bounds\n",
    "    # Longitude depends on latitude, so adjust accordingly\n",
    "    min_lon = math.degrees(lon_rad - distance_rad / math.cos(lat_rad))\n",
    "    max_lon = math.degrees(lon_rad + distance_rad / math.cos(lat_rad))\n",
    "\n",
    "    return {\n",
    "        'min_lat': min_lat,\n",
    "        'max_lat': max_lat,\n",
    "        'min_lon': min_lon,\n",
    "        'max_lon': max_lon\n",
    "    }\n",
    "    \n",
    "def sample_dataframe(df, min_samples ,rate=0.1):\n",
    "    \"\"\"\n",
    "    Samples rows from the input DataFrame based on a variable sampling rate.\n",
    "    \n",
    "    Parameters:\n",
    "    df (pd.DataFrame): The input DataFrame.\n",
    "    rate (float): The sampling rate for DataFrames with more than 10 rows.\n",
    "    \n",
    "    Returns:\n",
    "    pd.DataFrame: The sampled DataFrame.\n",
    "    \"\"\"\n",
    "    num_rows = len(df)\n",
    "    \n",
    "    if num_rows <= min_samples:\n",
    "        # If the number of rows is 10 or less, return the entire DataFrame\n",
    "        return df\n",
    "    else:\n",
    "        # Calculate the sample size\n",
    "        sample_size = max(min_samples, int(num_rows * rate))\n",
    "        \n",
    "        # Sample the DataFrame\n",
    "        sampled_df = df.sample(n=sample_size, random_state=1)\n",
    "        return sampled_df\n",
    "\n",
    "def mean_of_list(lst):\n",
    "    return sum(lst)/len(lst)"
   ]
  },
  {
   "cell_type": "code",
   "execution_count": 2,
   "metadata": {},
   "outputs": [],
   "source": [
    "def set_up_base_maps(lookup,next_lsoa,od_bike,msoas,con,project):\n",
    "    \n",
    "    #Get MSOA id assovciate to LSOA\n",
    "    msoa_id = lookup[lookup['LSOA11CD'] == next_lsoa].iloc[0]['MSOA11CD']\n",
    "    #Get MSOA OD pairs\n",
    "    zone_od_flows = od_bike[od_bike['geo_code1'] == msoa_id]\n",
    "    #Get MSOA with highest OD flow\n",
    "    dest_msoa = zone_od_flows[zone_od_flows['bicycle'] == zone_od_flows['bicycle'].max()]['geo_code2'].values[0]\n",
    "    #Get coords of origin centroid\n",
    "    origin = (msoas.loc[msoa_id].centroid.y, msoas.loc[msoa_id].centroid.x)\n",
    "    #Get coords of origin centroid\n",
    "    destination = (msoas.loc[dest_msoa].centroid.y, msoas.loc[dest_msoa].centroid.x)\n",
    "    #Calculate distance between coords\n",
    "    distance_to_d = calculate_haversine_distance(origin[0], origin[1], destination[0], destination[1])\n",
    "    \n",
    "    # Case where distnce to destination is 0 (same MSOA) get second most popular MSOA and get distance\n",
    "    if distance_to_d == 0:\n",
    "        dest_msoa = zone_od_flows[['geo_code2','bicycle']].sort_values('bicycle',ascending = False).iloc[1]['geo_code2']\n",
    "        origin = (msoas.loc[msoa_id].centroid.y, msoas.loc[msoa_id].centroid.x)\n",
    "        destination = (msoas.loc[dest_msoa].centroid.y, msoas.loc[dest_msoa].centroid.x)\n",
    "        distance_to_d = calculate_haversine_distance(origin[0], origin[1], destination[0], destination[1])\n",
    "    \n",
    "    # Take distance as min of either 10km or dist to work dest\n",
    "    distance = min([15,distance_to_d])\n",
    "    \n",
    "    # Calcualted boiunding box add small buffer to account for routing around origin and destination points\n",
    "    box_dist = distance * 1.25\n",
    "    bbox = calculate_haversine_bounding_box(msoas.loc[msoa_id].centroid, box_dist)\n",
    "\n",
    "    base_networks = {}\n",
    "    base_networks[2016] = {}\n",
    "    base_networks[2021] = {}\n",
    "    #Get base networks for 2016 and 2021\n",
    "    od_edges_2016 = get_edges_from_geom(box(*(bbox['min_lon'],bbox['min_lat'],bbox['max_lon'],bbox['max_lat'])), con, project, 'rn2016_roads')\n",
    "    G_od_2016, nodes_od_2016, edges_od_2016 = create_graph(od_edges_2016)\n",
    "    base_networks[2016]['G'] = G_od_2016\n",
    "    base_networks[2016]['nodes'] = nodes_od_2016\n",
    "    base_networks[2016]['edges'] = edges_od_2016\n",
    "    \n",
    "    od_edges_2021 = get_edges_from_geom(box(*(bbox['min_lon'],bbox['min_lat'],bbox['max_lon'],bbox['max_lat'])), con, project, 'rn2021_roads')\n",
    "    G_od_2021, nodes_od_2021, edges_od_2021 = create_graph(od_edges_2021)\n",
    "    base_networks[2021]['G'] = G_od_2021\n",
    "    base_networks[2021]['nodes'] = nodes_od_2021\n",
    "    base_networks[2021]['edges'] = edges_od_2021\n",
    "    \n",
    "    return base_networks, bbox\n",
    "\n",
    "def coarsen_network(base_graph_nodes, base_graph, bbox, lsoa_centroids, next_lsoa, lsoas):\n",
    "    \n",
    "    # Get LSOAs intersecting with bbox\n",
    "    od_polygon = gpd.GeoSeries([box(bbox['min_lon'],bbox['min_lat'],bbox['max_lon'],bbox['max_lat'])])\n",
    "    lsoas_in_area = lsoa_centroids[lsoa_centroids.intersects(od_polygon.unary_union)]\n",
    "    \n",
    "    # Network nodes as points\n",
    "    network_node_points_list = []\n",
    "    for i,r in base_graph_nodes.iterrows():\n",
    "        network_node_points_list.append(Point([r['latitude'],r['longitude']]))\n",
    "    base_graph_nodes['geometry'] = network_node_points_list\n",
    "    base_graph_nodes = gpd.GeoDataFrame(base_graph_nodes, geometry = 'geometry')\n",
    "\n",
    "    # Associate lsoa to graph nodes (e.g., intersect graph nodes with lsoa boundary)\n",
    "    area_to_nodes = {}\n",
    "    num_nodes_per_oa = []\n",
    "    for lsoa in list(lsoas_in_area.index):\n",
    "        oa_geom = gpd.GeoSeries([lsoas.loc[lsoa]['geometry']])\n",
    "        oa_nodes = base_graph_nodes[base_graph_nodes.intersects(oa_geom.unary_union)]\n",
    "        area_to_nodes[lsoa] = oa_nodes\n",
    "        num_nodes_per_oa.append(len(oa_nodes))\n",
    "    \n",
    "    #Create new network in order of LTS\n",
    "    #LTS1\n",
    "    lts_1_edges = [(u, v, d) for u, v, d in base_graph.edges(data=True) if d.get('lts', 0) == 1]\n",
    "    G_lts1 = nx.Graph()\n",
    "    G_lts1.add_nodes_from(base_graph.nodes(data = True))\n",
    "    G_lts1.add_edges_from(lts_1_edges)\n",
    "\n",
    "    #LTS2\n",
    "    lts_2_edges = [(u, v, d) for u, v, d in base_graph.edges(data=True) if 0 < d.get('lts', 0) <= 2]\n",
    "    G_lts2 = nx.Graph()\n",
    "    G_lts2.add_nodes_from(base_graph.nodes(data = True))\n",
    "    G_lts2.add_edges_from(lts_2_edges)\n",
    "\n",
    "    #LTS3\n",
    "    lts_3_edges = [(u, v, d) for u, v, d in base_graph.edges(data=True) if 0 < d.get('lts', 0) <= 3]\n",
    "    G_lts3 = nx.Graph()\n",
    "    G_lts3.add_nodes_from(base_graph.nodes(data = True))\n",
    "    G_lts3.add_edges_from(lts_3_edges)\n",
    "\n",
    "    #LTS4\n",
    "    lts_4_edges = [(u, v, d) for u, v, d in base_graph.edges(data=True) if 0 < d.get('lts', 0) <= 4]\n",
    "    G_lts4 = nx.Graph()\n",
    "    G_lts4.add_nodes_from(base_graph.nodes(data = True))\n",
    "    G_lts4.add_edges_from(lts_4_edges)\n",
    "    \n",
    "    #Get list of LSOA indeces\n",
    "    lsoas_in_area_list = list(lsoas_in_area.index)\n",
    "\n",
    "    \n",
    "    paths_lts_1 = {}\n",
    "    paths_lts_2 = {}\n",
    "    paths_lts_3 = {}\n",
    "    paths_lts_4 = {}\n",
    "\n",
    "    paths_lts_1[next_lsoa] = {}\n",
    "    paths_lts_2[next_lsoa] = {}\n",
    "    paths_lts_3[next_lsoa] = {}\n",
    "    paths_lts_4[next_lsoa] = {}\n",
    "    \n",
    "    for d in lsoas_in_area_list:\n",
    "        paths_lts_1[next_lsoa][d] = []\n",
    "        paths_lts_2[next_lsoa][d] = []\n",
    "        paths_lts_3[next_lsoa][d] = []\n",
    "        paths_lts_4[next_lsoa][d] = []\n",
    "    \n",
    "\n",
    "    origin_nodes = sample_dataframe(area_to_nodes[next_lsoa],4,0.1)\n",
    "    for next_o_node in list(origin_nodes['node']):\n",
    "        all_sp_lts1 = nx.single_source_dijkstra_path_length(G_lts1,next_o_node, weight = 'length')\n",
    "        all_sp_lts2 = nx.single_source_dijkstra_path_length(G_lts2,next_o_node, weight = 'length')\n",
    "        all_sp_lts3 = nx.single_source_dijkstra_path_length(G_lts3,next_o_node, weight = 'length')\n",
    "        all_sp_lts4 = nx.single_source_dijkstra_path_length(G_lts4,next_o_node, weight = 'length')\n",
    "        \n",
    "        for d in lsoas_in_area_list:\n",
    "            \n",
    "            destination_nodes = list(area_to_nodes[d]['node'])\n",
    "\n",
    "            #Add LTS 1 Routes to Dict\n",
    "            paths_to_dest = {key: all_sp_lts1[key] for key in destination_nodes if key in all_sp_lts1}\n",
    "            #Remove 0 elements\n",
    "            paths_to_dest = [element for element in list(paths_to_dest.values()) if element != 0]\n",
    "            #Add found routes to dictionary\n",
    "            paths_lts_1[next_lsoa][d].extend(paths_to_dest)\n",
    "\n",
    "            #Add LTS 2 Routes to Dict\n",
    "            paths_to_dest = {key: all_sp_lts2[key] for key in destination_nodes if key in all_sp_lts2}\n",
    "            #Remove 0 elements\n",
    "            paths_to_dest = [element for element in list(paths_to_dest.values()) if element != 0]\n",
    "            #Add found routes to dictionary\n",
    "            paths_lts_2[next_lsoa][d].extend(paths_to_dest)\n",
    "            \n",
    "            #Add LTS 3 Routes to Dict\n",
    "            paths_to_dest = {key: all_sp_lts3[key] for key in destination_nodes if key in all_sp_lts3}\n",
    "            #Remove 0 elements\n",
    "            paths_to_dest = [element for element in list(paths_to_dest.values()) if element != 0]\n",
    "            #Add found routes to dictionary\n",
    "            paths_lts_3[next_lsoa][d].extend(paths_to_dest)\n",
    "            \n",
    "            #Add LTS 4 Routes to Dict\n",
    "            paths_to_dest = {key: all_sp_lts4[key] for key in destination_nodes if key in all_sp_lts4}\n",
    "            #Remove 0 elements\n",
    "            paths_to_dest = [element for element in list(paths_to_dest.values()) if element != 0]\n",
    "            if len(paths_to_dest) > 0:\n",
    "                #Add found routes to dictionary\n",
    "                paths_lts_4[next_lsoa][d].extend(paths_to_dest)\n",
    "                \n",
    "    dist_dict = {}\n",
    "    \n",
    "    for d in lsoas_in_area_list:\n",
    "        distances = []\n",
    "        if len(paths_lts_1[next_lsoa][d]) > 0:\n",
    "            distances.append(mean_of_list(paths_lts_1[next_lsoa][d]))\n",
    "        else:\n",
    "            distances.append(0)\n",
    "\n",
    "        if len(paths_lts_2[next_lsoa][d]) > 0:\n",
    "            distances.append(mean_of_list(paths_lts_2[next_lsoa][d]))\n",
    "        else:\n",
    "            distances.append(0)\n",
    "\n",
    "        if len(paths_lts_3[next_lsoa][d]) > 0:\n",
    "            distances.append(mean_of_list(paths_lts_3[next_lsoa][d]))\n",
    "        else:\n",
    "            distances.append(0)\n",
    "            \n",
    "        if len(paths_lts_4[next_lsoa][d]) > 0:\n",
    "            distances.append(mean_of_list(paths_lts_4[next_lsoa][d]))\n",
    "        else:\n",
    "            distances.append(0)\n",
    "        \n",
    "        dist_dict[d] = distances\n",
    "        \n",
    "    return dist_dict"
   ]
  },
  {
   "cell_type": "code",
   "execution_count": 3,
   "metadata": {},
   "outputs": [
    {
     "name": "stderr",
     "output_type": "stream",
     "text": [
      "/home/chris/miniconda3/envs/ate/lib/python3.10/site-packages/pyproj/crs/crs.py:141: FutureWarning: '+init=<authority>:<code>' syntax is deprecated. '<authority>:<code>' is the preferred initialization method. When making the change, be mindful of axis order changes: https://pyproj4.github.io/pyproj/stable/gotchas.html#axis-order-changes-in-proj-6\n",
      "  in_crs_string = _prepare_from_proj_string(in_crs_string)\n",
      "/home/chris/miniconda3/envs/ate/lib/python3.10/site-packages/pyproj/crs/crs.py:141: FutureWarning: '+init=<authority>:<code>' syntax is deprecated. '<authority>:<code>' is the preferred initialization method. When making the change, be mindful of axis order changes: https://pyproj4.github.io/pyproj/stable/gotchas.html#axis-order-changes-in-proj-6\n",
      "  in_crs_string = _prepare_from_proj_string(in_crs_string)\n",
      "/home/chris/miniconda3/envs/ate/lib/python3.10/site-packages/pyproj/crs/crs.py:141: FutureWarning: '+init=<authority>:<code>' syntax is deprecated. '<authority>:<code>' is the preferred initialization method. When making the change, be mindful of axis order changes: https://pyproj4.github.io/pyproj/stable/gotchas.html#axis-order-changes-in-proj-6\n",
      "  in_crs_string = _prepare_from_proj_string(in_crs_string)\n",
      "/home/chris/miniconda3/envs/ate/lib/python3.10/site-packages/pyproj/crs/crs.py:141: FutureWarning: '+init=<authority>:<code>' syntax is deprecated. '<authority>:<code>' is the preferred initialization method. When making the change, be mindful of axis order changes: https://pyproj4.github.io/pyproj/stable/gotchas.html#axis-order-changes-in-proj-6\n",
      "  in_crs_string = _prepare_from_proj_string(in_crs_string)\n"
     ]
    }
   ],
   "source": [
    "# Get DB username and password from local .env file\n",
    "load_dotenv()\n",
    "db_user = os.getenv('DB_USER')\n",
    "db_password = os.getenv('DB_PASSWORD')\n",
    "\n",
    "#Connect to DB\n",
    "con = psycopg2.connect(database=\"ukrn\", user=db_user, password=db_password, host=\"/var/run/postgresql/\")\n",
    "project = pyproj.Transformer.from_proj(pyproj.Proj(init='epsg:4326'),pyproj.Proj(init='epsg:3857'))\n",
    "project_reverse = pyproj.Transformer.from_proj(pyproj.Proj(init='epsg:3857'),pyproj.Proj(init='epsg:4326'))"
   ]
  },
  {
   "cell_type": "code",
   "execution_count": 4,
   "metadata": {},
   "outputs": [
    {
     "name": "stderr",
     "output_type": "stream",
     "text": [
      "/tmp/ipykernel_1925211/1743920208.py:15: DtypeWarning: Columns (9) have mixed types. Specify dtype option on import or set low_memory=False.\n",
      "  lookup = pd.read_csv('data/PCD11_OA11_LSOA11_MSOA11_LAD11_EW_LU_aligned_v2.csv')\n"
     ]
    }
   ],
   "source": [
    "# For 2021 create UK wide network as base network\n",
    "\n",
    "# Import MSOA lookup\n",
    "msoas = gpd.read_file('data/MSOA_EngWal_Dec_2011_Generalised_ClippedEW_0/Middle_Layer_Super_Output_Areas_December_2011_Generalised_Clipped_Boundaries_in_England_and_Wales.shp').to_crs(4326).set_index('msoa11cd')\n",
    "\n",
    "# Import MSOA 2011 OD data\n",
    "od_data = pd.read_parquet('data/od_2011.parquet')\n",
    "\n",
    "#Import LSOAs\n",
    "lsoas = gpd.read_file('data/LSOA_2011_Boundaries_Super_Generalised_Clipped_BSC_EW_V4_6029841263726194941.gpkg').to_crs(4326)\n",
    "lsoas = lsoas[lsoas['LSOA11CD'].str.startswith('E')]\n",
    "lsoas = pd.concat([lsoas, lsoas.bounds], axis=1)\n",
    "\n",
    "#Import lsoa to msoa look up\n",
    "lookup = pd.read_csv('data/PCD11_OA11_LSOA11_MSOA11_LAD11_EW_LU_aligned_v2.csv')\n",
    "lsoas_ids = list(lsoas['LSOA11CD'])\n",
    "lsoas = lsoas.set_index('LSOA11CD')\n",
    "\n",
    "lsoa_centroids = []\n",
    "for i,r in lsoas.iterrows():\n",
    "    lsoa_centroids.append(r['geometry'].centroid)\n",
    "lsoas['centroid'] = lsoa_centroids\n",
    "lsoa_centroids = gpd.GeoDataFrame(lsoas[['centroid']], geometry='centroid')\n",
    "\n",
    "lsoas_processed = pd.read_csv('data/lsoas_processed.csv', index_col = 0)\n",
    "\n",
    "centroids = []\n",
    "for _i, _r in msoas.iterrows():\n",
    "    centroids.append(_r['geometry'].centroid)\n",
    "msoas['centroid'] = centroids"
   ]
  },
  {
   "cell_type": "code",
   "execution_count": 5,
   "metadata": {},
   "outputs": [],
   "source": [
    "od_bike = od_data[od_data['bicycle'] > 0]\n",
    "od_bike = od_bike[od_bike['geo_code1'].str.startswith('E')]\n",
    "od_bike = od_bike[od_bike['geo_code2'].str.startswith('E')]"
   ]
  },
  {
   "cell_type": "code",
   "execution_count": 12,
   "metadata": {},
   "outputs": [],
   "source": [
    "coarse_edges_2016 = {}\n",
    "coarse_edges_2021 = {}"
   ]
  },
  {
   "cell_type": "code",
   "execution_count": 13,
   "metadata": {},
   "outputs": [
    {
     "name": "stdout",
     "output_type": "stream",
     "text": [
      "Num processed : 1\n"
     ]
    },
    {
     "name": "stderr",
     "output_type": "stream",
     "text": [
      "/home/chris/miniconda3/envs/ate/lib/python3.10/site-packages/shapely/linear.py:88: RuntimeWarning: invalid value encountered in line_locate_point\n",
      "  return lib.line_locate_point(line, other)\n",
      "/home/chris/miniconda3/envs/ate/lib/python3.10/site-packages/shapely/linear.py:88: RuntimeWarning: invalid value encountered in line_locate_point\n",
      "  return lib.line_locate_point(line, other)\n"
     ]
    },
    {
     "name": "stdout",
     "output_type": "stream",
     "text": [
      "Num processed : 2\n"
     ]
    },
    {
     "name": "stderr",
     "output_type": "stream",
     "text": [
      "/home/chris/miniconda3/envs/ate/lib/python3.10/site-packages/shapely/linear.py:88: RuntimeWarning: invalid value encountered in line_locate_point\n",
      "  return lib.line_locate_point(line, other)\n",
      "/home/chris/miniconda3/envs/ate/lib/python3.10/site-packages/shapely/linear.py:88: RuntimeWarning: invalid value encountered in line_locate_point\n",
      "  return lib.line_locate_point(line, other)\n"
     ]
    },
    {
     "name": "stdout",
     "output_type": "stream",
     "text": [
      "Num processed : 3\n"
     ]
    },
    {
     "name": "stderr",
     "output_type": "stream",
     "text": [
      "/home/chris/miniconda3/envs/ate/lib/python3.10/site-packages/shapely/linear.py:88: RuntimeWarning: invalid value encountered in line_locate_point\n",
      "  return lib.line_locate_point(line, other)\n",
      "/home/chris/miniconda3/envs/ate/lib/python3.10/site-packages/shapely/linear.py:88: RuntimeWarning: invalid value encountered in line_locate_point\n",
      "  return lib.line_locate_point(line, other)\n"
     ]
    },
    {
     "name": "stdout",
     "output_type": "stream",
     "text": [
      "Num processed : 4\n"
     ]
    },
    {
     "name": "stderr",
     "output_type": "stream",
     "text": [
      "/home/chris/miniconda3/envs/ate/lib/python3.10/site-packages/shapely/linear.py:88: RuntimeWarning: invalid value encountered in line_locate_point\n",
      "  return lib.line_locate_point(line, other)\n",
      "/home/chris/miniconda3/envs/ate/lib/python3.10/site-packages/shapely/linear.py:88: RuntimeWarning: invalid value encountered in line_locate_point\n",
      "  return lib.line_locate_point(line, other)\n"
     ]
    },
    {
     "name": "stdout",
     "output_type": "stream",
     "text": [
      "Num processed : 5\n"
     ]
    },
    {
     "name": "stderr",
     "output_type": "stream",
     "text": [
      "/home/chris/miniconda3/envs/ate/lib/python3.10/site-packages/shapely/linear.py:88: RuntimeWarning: invalid value encountered in line_locate_point\n",
      "  return lib.line_locate_point(line, other)\n"
     ]
    },
    {
     "name": "stdout",
     "output_type": "stream",
     "text": [
      "Num processed : 6\n"
     ]
    },
    {
     "name": "stderr",
     "output_type": "stream",
     "text": [
      "/home/chris/miniconda3/envs/ate/lib/python3.10/site-packages/shapely/linear.py:88: RuntimeWarning: invalid value encountered in line_locate_point\n",
      "  return lib.line_locate_point(line, other)\n",
      "/home/chris/miniconda3/envs/ate/lib/python3.10/site-packages/shapely/linear.py:88: RuntimeWarning: invalid value encountered in line_locate_point\n",
      "  return lib.line_locate_point(line, other)\n"
     ]
    },
    {
     "name": "stdout",
     "output_type": "stream",
     "text": [
      "Num processed : 7\n"
     ]
    },
    {
     "name": "stderr",
     "output_type": "stream",
     "text": [
      "/home/chris/miniconda3/envs/ate/lib/python3.10/site-packages/shapely/linear.py:88: RuntimeWarning: invalid value encountered in line_locate_point\n",
      "  return lib.line_locate_point(line, other)\n",
      "/home/chris/miniconda3/envs/ate/lib/python3.10/site-packages/shapely/linear.py:88: RuntimeWarning: invalid value encountered in line_locate_point\n",
      "  return lib.line_locate_point(line, other)\n"
     ]
    },
    {
     "name": "stdout",
     "output_type": "stream",
     "text": [
      "Num processed : 8\n"
     ]
    },
    {
     "name": "stderr",
     "output_type": "stream",
     "text": [
      "/home/chris/miniconda3/envs/ate/lib/python3.10/site-packages/shapely/linear.py:88: RuntimeWarning: invalid value encountered in line_locate_point\n",
      "  return lib.line_locate_point(line, other)\n",
      "/home/chris/miniconda3/envs/ate/lib/python3.10/site-packages/shapely/linear.py:88: RuntimeWarning: invalid value encountered in line_locate_point\n",
      "  return lib.line_locate_point(line, other)\n"
     ]
    },
    {
     "name": "stdout",
     "output_type": "stream",
     "text": [
      "Num processed : 9\n"
     ]
    },
    {
     "name": "stderr",
     "output_type": "stream",
     "text": [
      "/home/chris/miniconda3/envs/ate/lib/python3.10/site-packages/shapely/linear.py:88: RuntimeWarning: invalid value encountered in line_locate_point\n",
      "  return lib.line_locate_point(line, other)\n",
      "/home/chris/miniconda3/envs/ate/lib/python3.10/site-packages/shapely/linear.py:88: RuntimeWarning: invalid value encountered in line_locate_point\n",
      "  return lib.line_locate_point(line, other)\n"
     ]
    },
    {
     "name": "stdout",
     "output_type": "stream",
     "text": [
      "Num processed : 10\n"
     ]
    },
    {
     "name": "stderr",
     "output_type": "stream",
     "text": [
      "/home/chris/miniconda3/envs/ate/lib/python3.10/site-packages/shapely/linear.py:88: RuntimeWarning: invalid value encountered in line_locate_point\n",
      "  return lib.line_locate_point(line, other)\n",
      "/home/chris/miniconda3/envs/ate/lib/python3.10/site-packages/shapely/linear.py:88: RuntimeWarning: invalid value encountered in line_locate_point\n",
      "  return lib.line_locate_point(line, other)\n"
     ]
    },
    {
     "name": "stdout",
     "output_type": "stream",
     "text": [
      "Num processed : 11\n"
     ]
    },
    {
     "name": "stderr",
     "output_type": "stream",
     "text": [
      "/home/chris/miniconda3/envs/ate/lib/python3.10/site-packages/shapely/linear.py:88: RuntimeWarning: invalid value encountered in line_locate_point\n",
      "  return lib.line_locate_point(line, other)\n",
      "/home/chris/miniconda3/envs/ate/lib/python3.10/site-packages/shapely/linear.py:88: RuntimeWarning: invalid value encountered in line_locate_point\n",
      "  return lib.line_locate_point(line, other)\n"
     ]
    },
    {
     "name": "stdout",
     "output_type": "stream",
     "text": [
      "Num processed : 12\n"
     ]
    },
    {
     "name": "stderr",
     "output_type": "stream",
     "text": [
      "/home/chris/miniconda3/envs/ate/lib/python3.10/site-packages/shapely/linear.py:88: RuntimeWarning: invalid value encountered in line_locate_point\n",
      "  return lib.line_locate_point(line, other)\n",
      "/home/chris/miniconda3/envs/ate/lib/python3.10/site-packages/shapely/linear.py:88: RuntimeWarning: invalid value encountered in line_locate_point\n",
      "  return lib.line_locate_point(line, other)\n"
     ]
    },
    {
     "name": "stdout",
     "output_type": "stream",
     "text": [
      "Num processed : 13\n"
     ]
    },
    {
     "name": "stderr",
     "output_type": "stream",
     "text": [
      "/home/chris/miniconda3/envs/ate/lib/python3.10/site-packages/shapely/linear.py:88: RuntimeWarning: invalid value encountered in line_locate_point\n",
      "  return lib.line_locate_point(line, other)\n",
      "/home/chris/miniconda3/envs/ate/lib/python3.10/site-packages/shapely/linear.py:88: RuntimeWarning: invalid value encountered in line_locate_point\n",
      "  return lib.line_locate_point(line, other)\n"
     ]
    },
    {
     "name": "stdout",
     "output_type": "stream",
     "text": [
      "Num processed : 14\n"
     ]
    },
    {
     "name": "stderr",
     "output_type": "stream",
     "text": [
      "/home/chris/miniconda3/envs/ate/lib/python3.10/site-packages/shapely/linear.py:88: RuntimeWarning: invalid value encountered in line_locate_point\n",
      "  return lib.line_locate_point(line, other)\n",
      "/home/chris/miniconda3/envs/ate/lib/python3.10/site-packages/shapely/linear.py:88: RuntimeWarning: invalid value encountered in line_locate_point\n",
      "  return lib.line_locate_point(line, other)\n"
     ]
    },
    {
     "name": "stdout",
     "output_type": "stream",
     "text": [
      "Num processed : 15\n"
     ]
    },
    {
     "name": "stderr",
     "output_type": "stream",
     "text": [
      "/home/chris/miniconda3/envs/ate/lib/python3.10/site-packages/shapely/linear.py:88: RuntimeWarning: invalid value encountered in line_locate_point\n",
      "  return lib.line_locate_point(line, other)\n",
      "/home/chris/miniconda3/envs/ate/lib/python3.10/site-packages/shapely/linear.py:88: RuntimeWarning: invalid value encountered in line_locate_point\n",
      "  return lib.line_locate_point(line, other)\n"
     ]
    },
    {
     "name": "stdout",
     "output_type": "stream",
     "text": [
      "Num processed : 16\n"
     ]
    },
    {
     "name": "stderr",
     "output_type": "stream",
     "text": [
      "/home/chris/miniconda3/envs/ate/lib/python3.10/site-packages/shapely/linear.py:88: RuntimeWarning: invalid value encountered in line_locate_point\n",
      "  return lib.line_locate_point(line, other)\n"
     ]
    },
    {
     "name": "stdout",
     "output_type": "stream",
     "text": [
      "Num processed : 17\n"
     ]
    },
    {
     "name": "stderr",
     "output_type": "stream",
     "text": [
      "/home/chris/miniconda3/envs/ate/lib/python3.10/site-packages/shapely/linear.py:88: RuntimeWarning: invalid value encountered in line_locate_point\n",
      "  return lib.line_locate_point(line, other)\n"
     ]
    },
    {
     "name": "stdout",
     "output_type": "stream",
     "text": [
      "Num processed : 18\n"
     ]
    },
    {
     "name": "stderr",
     "output_type": "stream",
     "text": [
      "/home/chris/miniconda3/envs/ate/lib/python3.10/site-packages/shapely/linear.py:88: RuntimeWarning: invalid value encountered in line_locate_point\n",
      "  return lib.line_locate_point(line, other)\n",
      "/home/chris/miniconda3/envs/ate/lib/python3.10/site-packages/shapely/linear.py:88: RuntimeWarning: invalid value encountered in line_locate_point\n",
      "  return lib.line_locate_point(line, other)\n"
     ]
    },
    {
     "name": "stdout",
     "output_type": "stream",
     "text": [
      "Num processed : 19\n"
     ]
    },
    {
     "name": "stderr",
     "output_type": "stream",
     "text": [
      "/home/chris/miniconda3/envs/ate/lib/python3.10/site-packages/shapely/linear.py:88: RuntimeWarning: invalid value encountered in line_locate_point\n",
      "  return lib.line_locate_point(line, other)\n",
      "/home/chris/miniconda3/envs/ate/lib/python3.10/site-packages/shapely/linear.py:88: RuntimeWarning: invalid value encountered in line_locate_point\n",
      "  return lib.line_locate_point(line, other)\n"
     ]
    },
    {
     "name": "stdout",
     "output_type": "stream",
     "text": [
      "Num processed : 20\n"
     ]
    },
    {
     "name": "stderr",
     "output_type": "stream",
     "text": [
      "/home/chris/miniconda3/envs/ate/lib/python3.10/site-packages/shapely/linear.py:88: RuntimeWarning: invalid value encountered in line_locate_point\n",
      "  return lib.line_locate_point(line, other)\n",
      "/home/chris/miniconda3/envs/ate/lib/python3.10/site-packages/shapely/linear.py:88: RuntimeWarning: invalid value encountered in line_locate_point\n",
      "  return lib.line_locate_point(line, other)\n"
     ]
    },
    {
     "name": "stdout",
     "output_type": "stream",
     "text": [
      "Num processed : 21\n"
     ]
    },
    {
     "name": "stderr",
     "output_type": "stream",
     "text": [
      "/home/chris/miniconda3/envs/ate/lib/python3.10/site-packages/shapely/linear.py:88: RuntimeWarning: invalid value encountered in line_locate_point\n",
      "  return lib.line_locate_point(line, other)\n",
      "/home/chris/miniconda3/envs/ate/lib/python3.10/site-packages/shapely/linear.py:88: RuntimeWarning: invalid value encountered in line_locate_point\n",
      "  return lib.line_locate_point(line, other)\n"
     ]
    },
    {
     "name": "stdout",
     "output_type": "stream",
     "text": [
      "Num processed : 22\n",
      "Num processed : 23\n",
      "Num processed : 24\n",
      "Num processed : 25\n"
     ]
    },
    {
     "name": "stderr",
     "output_type": "stream",
     "text": [
      "/home/chris/miniconda3/envs/ate/lib/python3.10/site-packages/shapely/linear.py:88: RuntimeWarning: invalid value encountered in line_locate_point\n",
      "  return lib.line_locate_point(line, other)\n",
      "/home/chris/miniconda3/envs/ate/lib/python3.10/site-packages/shapely/linear.py:88: RuntimeWarning: invalid value encountered in line_locate_point\n",
      "  return lib.line_locate_point(line, other)\n"
     ]
    },
    {
     "name": "stdout",
     "output_type": "stream",
     "text": [
      "Num processed : 26\n"
     ]
    },
    {
     "name": "stderr",
     "output_type": "stream",
     "text": [
      "/home/chris/miniconda3/envs/ate/lib/python3.10/site-packages/shapely/linear.py:88: RuntimeWarning: invalid value encountered in line_locate_point\n",
      "  return lib.line_locate_point(line, other)\n",
      "/home/chris/miniconda3/envs/ate/lib/python3.10/site-packages/shapely/linear.py:88: RuntimeWarning: invalid value encountered in line_locate_point\n",
      "  return lib.line_locate_point(line, other)\n"
     ]
    },
    {
     "name": "stdout",
     "output_type": "stream",
     "text": [
      "Num processed : 27\n"
     ]
    },
    {
     "name": "stderr",
     "output_type": "stream",
     "text": [
      "/home/chris/miniconda3/envs/ate/lib/python3.10/site-packages/shapely/linear.py:88: RuntimeWarning: invalid value encountered in line_locate_point\n",
      "  return lib.line_locate_point(line, other)\n",
      "/home/chris/miniconda3/envs/ate/lib/python3.10/site-packages/shapely/linear.py:88: RuntimeWarning: invalid value encountered in line_locate_point\n",
      "  return lib.line_locate_point(line, other)\n"
     ]
    },
    {
     "name": "stdout",
     "output_type": "stream",
     "text": [
      "Num processed : 28\n"
     ]
    },
    {
     "name": "stderr",
     "output_type": "stream",
     "text": [
      "/home/chris/miniconda3/envs/ate/lib/python3.10/site-packages/shapely/linear.py:88: RuntimeWarning: invalid value encountered in line_locate_point\n",
      "  return lib.line_locate_point(line, other)\n",
      "/home/chris/miniconda3/envs/ate/lib/python3.10/site-packages/shapely/linear.py:88: RuntimeWarning: invalid value encountered in line_locate_point\n",
      "  return lib.line_locate_point(line, other)\n"
     ]
    },
    {
     "name": "stdout",
     "output_type": "stream",
     "text": [
      "Num processed : 29\n"
     ]
    },
    {
     "name": "stderr",
     "output_type": "stream",
     "text": [
      "/home/chris/miniconda3/envs/ate/lib/python3.10/site-packages/shapely/linear.py:88: RuntimeWarning: invalid value encountered in line_locate_point\n",
      "  return lib.line_locate_point(line, other)\n",
      "/home/chris/miniconda3/envs/ate/lib/python3.10/site-packages/shapely/linear.py:88: RuntimeWarning: invalid value encountered in line_locate_point\n",
      "  return lib.line_locate_point(line, other)\n"
     ]
    },
    {
     "name": "stdout",
     "output_type": "stream",
     "text": [
      "Num processed : 30\n"
     ]
    },
    {
     "name": "stderr",
     "output_type": "stream",
     "text": [
      "/home/chris/miniconda3/envs/ate/lib/python3.10/site-packages/shapely/linear.py:88: RuntimeWarning: invalid value encountered in line_locate_point\n",
      "  return lib.line_locate_point(line, other)\n",
      "/home/chris/miniconda3/envs/ate/lib/python3.10/site-packages/shapely/linear.py:88: RuntimeWarning: invalid value encountered in line_locate_point\n",
      "  return lib.line_locate_point(line, other)\n"
     ]
    },
    {
     "name": "stdout",
     "output_type": "stream",
     "text": [
      "Num processed : 31\n"
     ]
    },
    {
     "name": "stderr",
     "output_type": "stream",
     "text": [
      "/home/chris/miniconda3/envs/ate/lib/python3.10/site-packages/shapely/linear.py:88: RuntimeWarning: invalid value encountered in line_locate_point\n",
      "  return lib.line_locate_point(line, other)\n",
      "/home/chris/miniconda3/envs/ate/lib/python3.10/site-packages/shapely/linear.py:88: RuntimeWarning: invalid value encountered in line_locate_point\n",
      "  return lib.line_locate_point(line, other)\n"
     ]
    },
    {
     "name": "stdout",
     "output_type": "stream",
     "text": [
      "Num processed : 32\n"
     ]
    },
    {
     "name": "stderr",
     "output_type": "stream",
     "text": [
      "/home/chris/miniconda3/envs/ate/lib/python3.10/site-packages/shapely/linear.py:88: RuntimeWarning: invalid value encountered in line_locate_point\n",
      "  return lib.line_locate_point(line, other)\n",
      "/home/chris/miniconda3/envs/ate/lib/python3.10/site-packages/shapely/linear.py:88: RuntimeWarning: invalid value encountered in line_locate_point\n",
      "  return lib.line_locate_point(line, other)\n"
     ]
    },
    {
     "name": "stdout",
     "output_type": "stream",
     "text": [
      "Num processed : 33\n"
     ]
    },
    {
     "name": "stderr",
     "output_type": "stream",
     "text": [
      "/home/chris/miniconda3/envs/ate/lib/python3.10/site-packages/shapely/linear.py:88: RuntimeWarning: invalid value encountered in line_locate_point\n",
      "  return lib.line_locate_point(line, other)\n",
      "/home/chris/miniconda3/envs/ate/lib/python3.10/site-packages/shapely/linear.py:88: RuntimeWarning: invalid value encountered in line_locate_point\n",
      "  return lib.line_locate_point(line, other)\n"
     ]
    },
    {
     "name": "stdout",
     "output_type": "stream",
     "text": [
      "Num processed : 34\n"
     ]
    },
    {
     "name": "stderr",
     "output_type": "stream",
     "text": [
      "/home/chris/miniconda3/envs/ate/lib/python3.10/site-packages/shapely/linear.py:88: RuntimeWarning: invalid value encountered in line_locate_point\n",
      "  return lib.line_locate_point(line, other)\n"
     ]
    },
    {
     "name": "stdout",
     "output_type": "stream",
     "text": [
      "Num processed : 35\n"
     ]
    },
    {
     "name": "stderr",
     "output_type": "stream",
     "text": [
      "/home/chris/miniconda3/envs/ate/lib/python3.10/site-packages/shapely/linear.py:88: RuntimeWarning: invalid value encountered in line_locate_point\n",
      "  return lib.line_locate_point(line, other)\n",
      "/home/chris/miniconda3/envs/ate/lib/python3.10/site-packages/shapely/linear.py:88: RuntimeWarning: invalid value encountered in line_locate_point\n",
      "  return lib.line_locate_point(line, other)\n"
     ]
    },
    {
     "name": "stdout",
     "output_type": "stream",
     "text": [
      "Num processed : 36\n"
     ]
    },
    {
     "name": "stderr",
     "output_type": "stream",
     "text": [
      "/home/chris/miniconda3/envs/ate/lib/python3.10/site-packages/shapely/linear.py:88: RuntimeWarning: invalid value encountered in line_locate_point\n",
      "  return lib.line_locate_point(line, other)\n",
      "/home/chris/miniconda3/envs/ate/lib/python3.10/site-packages/shapely/linear.py:88: RuntimeWarning: invalid value encountered in line_locate_point\n",
      "  return lib.line_locate_point(line, other)\n"
     ]
    },
    {
     "name": "stdout",
     "output_type": "stream",
     "text": [
      "Num processed : 37\n",
      "Num processed : 38\n"
     ]
    },
    {
     "name": "stderr",
     "output_type": "stream",
     "text": [
      "/home/chris/miniconda3/envs/ate/lib/python3.10/site-packages/shapely/linear.py:88: RuntimeWarning: invalid value encountered in line_locate_point\n",
      "  return lib.line_locate_point(line, other)\n"
     ]
    },
    {
     "name": "stdout",
     "output_type": "stream",
     "text": [
      "Num processed : 39\n"
     ]
    },
    {
     "name": "stderr",
     "output_type": "stream",
     "text": [
      "/home/chris/miniconda3/envs/ate/lib/python3.10/site-packages/shapely/linear.py:88: RuntimeWarning: invalid value encountered in line_locate_point\n",
      "  return lib.line_locate_point(line, other)\n",
      "/home/chris/miniconda3/envs/ate/lib/python3.10/site-packages/shapely/linear.py:88: RuntimeWarning: invalid value encountered in line_locate_point\n",
      "  return lib.line_locate_point(line, other)\n"
     ]
    },
    {
     "name": "stdout",
     "output_type": "stream",
     "text": [
      "Num processed : 40\n"
     ]
    },
    {
     "name": "stderr",
     "output_type": "stream",
     "text": [
      "/home/chris/miniconda3/envs/ate/lib/python3.10/site-packages/shapely/linear.py:88: RuntimeWarning: invalid value encountered in line_locate_point\n",
      "  return lib.line_locate_point(line, other)\n",
      "/home/chris/miniconda3/envs/ate/lib/python3.10/site-packages/shapely/linear.py:88: RuntimeWarning: invalid value encountered in line_locate_point\n",
      "  return lib.line_locate_point(line, other)\n"
     ]
    },
    {
     "name": "stdout",
     "output_type": "stream",
     "text": [
      "Num processed : 41\n"
     ]
    },
    {
     "name": "stderr",
     "output_type": "stream",
     "text": [
      "/home/chris/miniconda3/envs/ate/lib/python3.10/site-packages/shapely/linear.py:88: RuntimeWarning: invalid value encountered in line_locate_point\n",
      "  return lib.line_locate_point(line, other)\n",
      "/home/chris/miniconda3/envs/ate/lib/python3.10/site-packages/shapely/linear.py:88: RuntimeWarning: invalid value encountered in line_locate_point\n",
      "  return lib.line_locate_point(line, other)\n"
     ]
    },
    {
     "name": "stdout",
     "output_type": "stream",
     "text": [
      "Num processed : 42\n"
     ]
    },
    {
     "name": "stderr",
     "output_type": "stream",
     "text": [
      "/home/chris/miniconda3/envs/ate/lib/python3.10/site-packages/shapely/linear.py:88: RuntimeWarning: invalid value encountered in line_locate_point\n",
      "  return lib.line_locate_point(line, other)\n",
      "/home/chris/miniconda3/envs/ate/lib/python3.10/site-packages/shapely/linear.py:88: RuntimeWarning: invalid value encountered in line_locate_point\n",
      "  return lib.line_locate_point(line, other)\n"
     ]
    },
    {
     "name": "stdout",
     "output_type": "stream",
     "text": [
      "Num processed : 43\n"
     ]
    },
    {
     "name": "stderr",
     "output_type": "stream",
     "text": [
      "/home/chris/miniconda3/envs/ate/lib/python3.10/site-packages/shapely/linear.py:88: RuntimeWarning: invalid value encountered in line_locate_point\n",
      "  return lib.line_locate_point(line, other)\n",
      "/home/chris/miniconda3/envs/ate/lib/python3.10/site-packages/shapely/linear.py:88: RuntimeWarning: invalid value encountered in line_locate_point\n",
      "  return lib.line_locate_point(line, other)\n"
     ]
    },
    {
     "name": "stdout",
     "output_type": "stream",
     "text": [
      "Num processed : 44\n"
     ]
    },
    {
     "name": "stderr",
     "output_type": "stream",
     "text": [
      "/home/chris/miniconda3/envs/ate/lib/python3.10/site-packages/shapely/linear.py:88: RuntimeWarning: invalid value encountered in line_locate_point\n",
      "  return lib.line_locate_point(line, other)\n",
      "/home/chris/miniconda3/envs/ate/lib/python3.10/site-packages/shapely/linear.py:88: RuntimeWarning: invalid value encountered in line_locate_point\n",
      "  return lib.line_locate_point(line, other)\n"
     ]
    },
    {
     "name": "stdout",
     "output_type": "stream",
     "text": [
      "Num processed : 45\n"
     ]
    },
    {
     "name": "stderr",
     "output_type": "stream",
     "text": [
      "/home/chris/miniconda3/envs/ate/lib/python3.10/site-packages/shapely/linear.py:88: RuntimeWarning: invalid value encountered in line_locate_point\n",
      "  return lib.line_locate_point(line, other)\n",
      "/home/chris/miniconda3/envs/ate/lib/python3.10/site-packages/shapely/linear.py:88: RuntimeWarning: invalid value encountered in line_locate_point\n",
      "  return lib.line_locate_point(line, other)\n"
     ]
    },
    {
     "name": "stdout",
     "output_type": "stream",
     "text": [
      "Num processed : 46\n"
     ]
    },
    {
     "name": "stderr",
     "output_type": "stream",
     "text": [
      "/home/chris/miniconda3/envs/ate/lib/python3.10/site-packages/shapely/linear.py:88: RuntimeWarning: invalid value encountered in line_locate_point\n",
      "  return lib.line_locate_point(line, other)\n",
      "/home/chris/miniconda3/envs/ate/lib/python3.10/site-packages/shapely/linear.py:88: RuntimeWarning: invalid value encountered in line_locate_point\n",
      "  return lib.line_locate_point(line, other)\n"
     ]
    },
    {
     "name": "stdout",
     "output_type": "stream",
     "text": [
      "Num processed : 47\n"
     ]
    },
    {
     "name": "stderr",
     "output_type": "stream",
     "text": [
      "/home/chris/miniconda3/envs/ate/lib/python3.10/site-packages/shapely/linear.py:88: RuntimeWarning: invalid value encountered in line_locate_point\n",
      "  return lib.line_locate_point(line, other)\n"
     ]
    },
    {
     "name": "stdout",
     "output_type": "stream",
     "text": [
      "Num processed : 48\n"
     ]
    },
    {
     "name": "stderr",
     "output_type": "stream",
     "text": [
      "/home/chris/miniconda3/envs/ate/lib/python3.10/site-packages/shapely/linear.py:88: RuntimeWarning: invalid value encountered in line_locate_point\n",
      "  return lib.line_locate_point(line, other)\n",
      "/home/chris/miniconda3/envs/ate/lib/python3.10/site-packages/shapely/linear.py:88: RuntimeWarning: invalid value encountered in line_locate_point\n",
      "  return lib.line_locate_point(line, other)\n"
     ]
    },
    {
     "name": "stdout",
     "output_type": "stream",
     "text": [
      "Num processed : 49\n"
     ]
    },
    {
     "name": "stderr",
     "output_type": "stream",
     "text": [
      "/home/chris/miniconda3/envs/ate/lib/python3.10/site-packages/shapely/linear.py:88: RuntimeWarning: invalid value encountered in line_locate_point\n",
      "  return lib.line_locate_point(line, other)\n",
      "/home/chris/miniconda3/envs/ate/lib/python3.10/site-packages/shapely/linear.py:88: RuntimeWarning: invalid value encountered in line_locate_point\n",
      "  return lib.line_locate_point(line, other)\n"
     ]
    },
    {
     "name": "stdout",
     "output_type": "stream",
     "text": [
      "Num processed : 50\n"
     ]
    },
    {
     "name": "stderr",
     "output_type": "stream",
     "text": [
      "/home/chris/miniconda3/envs/ate/lib/python3.10/site-packages/shapely/linear.py:88: RuntimeWarning: invalid value encountered in line_locate_point\n",
      "  return lib.line_locate_point(line, other)\n",
      "/home/chris/miniconda3/envs/ate/lib/python3.10/site-packages/shapely/linear.py:88: RuntimeWarning: invalid value encountered in line_locate_point\n",
      "  return lib.line_locate_point(line, other)\n"
     ]
    },
    {
     "name": "stdout",
     "output_type": "stream",
     "text": [
      "Num processed : 51\n"
     ]
    },
    {
     "name": "stderr",
     "output_type": "stream",
     "text": [
      "/home/chris/miniconda3/envs/ate/lib/python3.10/site-packages/shapely/linear.py:88: RuntimeWarning: invalid value encountered in line_locate_point\n",
      "  return lib.line_locate_point(line, other)\n"
     ]
    },
    {
     "name": "stdout",
     "output_type": "stream",
     "text": [
      "Num processed : 52\n"
     ]
    },
    {
     "name": "stderr",
     "output_type": "stream",
     "text": [
      "/home/chris/miniconda3/envs/ate/lib/python3.10/site-packages/shapely/linear.py:88: RuntimeWarning: invalid value encountered in line_locate_point\n",
      "  return lib.line_locate_point(line, other)\n",
      "/home/chris/miniconda3/envs/ate/lib/python3.10/site-packages/shapely/linear.py:88: RuntimeWarning: invalid value encountered in line_locate_point\n",
      "  return lib.line_locate_point(line, other)\n"
     ]
    },
    {
     "name": "stdout",
     "output_type": "stream",
     "text": [
      "Num processed : 53\n"
     ]
    },
    {
     "name": "stderr",
     "output_type": "stream",
     "text": [
      "/home/chris/miniconda3/envs/ate/lib/python3.10/site-packages/shapely/linear.py:88: RuntimeWarning: invalid value encountered in line_locate_point\n",
      "  return lib.line_locate_point(line, other)\n",
      "/home/chris/miniconda3/envs/ate/lib/python3.10/site-packages/shapely/linear.py:88: RuntimeWarning: invalid value encountered in line_locate_point\n",
      "  return lib.line_locate_point(line, other)\n"
     ]
    },
    {
     "name": "stdout",
     "output_type": "stream",
     "text": [
      "Num processed : 54\n"
     ]
    },
    {
     "name": "stderr",
     "output_type": "stream",
     "text": [
      "/home/chris/miniconda3/envs/ate/lib/python3.10/site-packages/shapely/linear.py:88: RuntimeWarning: invalid value encountered in line_locate_point\n",
      "  return lib.line_locate_point(line, other)\n"
     ]
    },
    {
     "name": "stdout",
     "output_type": "stream",
     "text": [
      "Num processed : 55\n"
     ]
    },
    {
     "name": "stderr",
     "output_type": "stream",
     "text": [
      "/home/chris/miniconda3/envs/ate/lib/python3.10/site-packages/shapely/linear.py:88: RuntimeWarning: invalid value encountered in line_locate_point\n",
      "  return lib.line_locate_point(line, other)\n",
      "/home/chris/miniconda3/envs/ate/lib/python3.10/site-packages/shapely/linear.py:88: RuntimeWarning: invalid value encountered in line_locate_point\n",
      "  return lib.line_locate_point(line, other)\n"
     ]
    },
    {
     "name": "stdout",
     "output_type": "stream",
     "text": [
      "Num processed : 56\n"
     ]
    },
    {
     "name": "stderr",
     "output_type": "stream",
     "text": [
      "/home/chris/miniconda3/envs/ate/lib/python3.10/site-packages/shapely/linear.py:88: RuntimeWarning: invalid value encountered in line_locate_point\n",
      "  return lib.line_locate_point(line, other)\n",
      "/home/chris/miniconda3/envs/ate/lib/python3.10/site-packages/shapely/linear.py:88: RuntimeWarning: invalid value encountered in line_locate_point\n",
      "  return lib.line_locate_point(line, other)\n"
     ]
    },
    {
     "name": "stdout",
     "output_type": "stream",
     "text": [
      "Num processed : 57\n"
     ]
    },
    {
     "name": "stderr",
     "output_type": "stream",
     "text": [
      "/home/chris/miniconda3/envs/ate/lib/python3.10/site-packages/shapely/linear.py:88: RuntimeWarning: invalid value encountered in line_locate_point\n",
      "  return lib.line_locate_point(line, other)\n",
      "/home/chris/miniconda3/envs/ate/lib/python3.10/site-packages/shapely/linear.py:88: RuntimeWarning: invalid value encountered in line_locate_point\n",
      "  return lib.line_locate_point(line, other)\n"
     ]
    },
    {
     "name": "stdout",
     "output_type": "stream",
     "text": [
      "Num processed : 58\n"
     ]
    },
    {
     "name": "stderr",
     "output_type": "stream",
     "text": [
      "/home/chris/miniconda3/envs/ate/lib/python3.10/site-packages/shapely/linear.py:88: RuntimeWarning: invalid value encountered in line_locate_point\n",
      "  return lib.line_locate_point(line, other)\n",
      "/home/chris/miniconda3/envs/ate/lib/python3.10/site-packages/shapely/linear.py:88: RuntimeWarning: invalid value encountered in line_locate_point\n",
      "  return lib.line_locate_point(line, other)\n"
     ]
    },
    {
     "name": "stdout",
     "output_type": "stream",
     "text": [
      "Num processed : 59\n"
     ]
    },
    {
     "name": "stderr",
     "output_type": "stream",
     "text": [
      "/home/chris/miniconda3/envs/ate/lib/python3.10/site-packages/shapely/linear.py:88: RuntimeWarning: invalid value encountered in line_locate_point\n",
      "  return lib.line_locate_point(line, other)\n",
      "/home/chris/miniconda3/envs/ate/lib/python3.10/site-packages/shapely/linear.py:88: RuntimeWarning: invalid value encountered in line_locate_point\n",
      "  return lib.line_locate_point(line, other)\n"
     ]
    },
    {
     "name": "stdout",
     "output_type": "stream",
     "text": [
      "Num processed : 60\n"
     ]
    },
    {
     "name": "stderr",
     "output_type": "stream",
     "text": [
      "/home/chris/miniconda3/envs/ate/lib/python3.10/site-packages/shapely/linear.py:88: RuntimeWarning: invalid value encountered in line_locate_point\n",
      "  return lib.line_locate_point(line, other)\n",
      "/home/chris/miniconda3/envs/ate/lib/python3.10/site-packages/shapely/linear.py:88: RuntimeWarning: invalid value encountered in line_locate_point\n",
      "  return lib.line_locate_point(line, other)\n"
     ]
    },
    {
     "name": "stdout",
     "output_type": "stream",
     "text": [
      "Num processed : 61\n"
     ]
    },
    {
     "name": "stderr",
     "output_type": "stream",
     "text": [
      "/home/chris/miniconda3/envs/ate/lib/python3.10/site-packages/shapely/linear.py:88: RuntimeWarning: invalid value encountered in line_locate_point\n",
      "  return lib.line_locate_point(line, other)\n",
      "/home/chris/miniconda3/envs/ate/lib/python3.10/site-packages/shapely/linear.py:88: RuntimeWarning: invalid value encountered in line_locate_point\n",
      "  return lib.line_locate_point(line, other)\n"
     ]
    },
    {
     "name": "stdout",
     "output_type": "stream",
     "text": [
      "Num processed : 62\n"
     ]
    },
    {
     "name": "stderr",
     "output_type": "stream",
     "text": [
      "/home/chris/miniconda3/envs/ate/lib/python3.10/site-packages/shapely/linear.py:88: RuntimeWarning: invalid value encountered in line_locate_point\n",
      "  return lib.line_locate_point(line, other)\n",
      "/home/chris/miniconda3/envs/ate/lib/python3.10/site-packages/shapely/linear.py:88: RuntimeWarning: invalid value encountered in line_locate_point\n",
      "  return lib.line_locate_point(line, other)\n"
     ]
    },
    {
     "name": "stdout",
     "output_type": "stream",
     "text": [
      "Num processed : 63\n"
     ]
    },
    {
     "name": "stderr",
     "output_type": "stream",
     "text": [
      "/home/chris/miniconda3/envs/ate/lib/python3.10/site-packages/shapely/linear.py:88: RuntimeWarning: invalid value encountered in line_locate_point\n",
      "  return lib.line_locate_point(line, other)\n",
      "/home/chris/miniconda3/envs/ate/lib/python3.10/site-packages/shapely/linear.py:88: RuntimeWarning: invalid value encountered in line_locate_point\n",
      "  return lib.line_locate_point(line, other)\n"
     ]
    },
    {
     "name": "stdout",
     "output_type": "stream",
     "text": [
      "Num processed : 64\n"
     ]
    },
    {
     "name": "stderr",
     "output_type": "stream",
     "text": [
      "/home/chris/miniconda3/envs/ate/lib/python3.10/site-packages/shapely/linear.py:88: RuntimeWarning: invalid value encountered in line_locate_point\n",
      "  return lib.line_locate_point(line, other)\n",
      "/home/chris/miniconda3/envs/ate/lib/python3.10/site-packages/shapely/linear.py:88: RuntimeWarning: invalid value encountered in line_locate_point\n",
      "  return lib.line_locate_point(line, other)\n"
     ]
    },
    {
     "name": "stdout",
     "output_type": "stream",
     "text": [
      "Num processed : 65\n"
     ]
    },
    {
     "name": "stderr",
     "output_type": "stream",
     "text": [
      "/home/chris/miniconda3/envs/ate/lib/python3.10/site-packages/shapely/linear.py:88: RuntimeWarning: invalid value encountered in line_locate_point\n",
      "  return lib.line_locate_point(line, other)\n",
      "/home/chris/miniconda3/envs/ate/lib/python3.10/site-packages/shapely/linear.py:88: RuntimeWarning: invalid value encountered in line_locate_point\n",
      "  return lib.line_locate_point(line, other)\n"
     ]
    },
    {
     "name": "stdout",
     "output_type": "stream",
     "text": [
      "Num processed : 66\n"
     ]
    },
    {
     "name": "stderr",
     "output_type": "stream",
     "text": [
      "/home/chris/miniconda3/envs/ate/lib/python3.10/site-packages/shapely/linear.py:88: RuntimeWarning: invalid value encountered in line_locate_point\n",
      "  return lib.line_locate_point(line, other)\n",
      "/home/chris/miniconda3/envs/ate/lib/python3.10/site-packages/shapely/linear.py:88: RuntimeWarning: invalid value encountered in line_locate_point\n",
      "  return lib.line_locate_point(line, other)\n"
     ]
    },
    {
     "name": "stdout",
     "output_type": "stream",
     "text": [
      "Num processed : 67\n"
     ]
    },
    {
     "name": "stderr",
     "output_type": "stream",
     "text": [
      "/home/chris/miniconda3/envs/ate/lib/python3.10/site-packages/shapely/linear.py:88: RuntimeWarning: invalid value encountered in line_locate_point\n",
      "  return lib.line_locate_point(line, other)\n",
      "/home/chris/miniconda3/envs/ate/lib/python3.10/site-packages/shapely/linear.py:88: RuntimeWarning: invalid value encountered in line_locate_point\n",
      "  return lib.line_locate_point(line, other)\n"
     ]
    },
    {
     "name": "stdout",
     "output_type": "stream",
     "text": [
      "Num processed : 68\n"
     ]
    },
    {
     "name": "stderr",
     "output_type": "stream",
     "text": [
      "/home/chris/miniconda3/envs/ate/lib/python3.10/site-packages/shapely/linear.py:88: RuntimeWarning: invalid value encountered in line_locate_point\n",
      "  return lib.line_locate_point(line, other)\n",
      "/home/chris/miniconda3/envs/ate/lib/python3.10/site-packages/shapely/linear.py:88: RuntimeWarning: invalid value encountered in line_locate_point\n",
      "  return lib.line_locate_point(line, other)\n"
     ]
    },
    {
     "name": "stdout",
     "output_type": "stream",
     "text": [
      "Num processed : 69\n"
     ]
    },
    {
     "name": "stderr",
     "output_type": "stream",
     "text": [
      "/home/chris/miniconda3/envs/ate/lib/python3.10/site-packages/shapely/linear.py:88: RuntimeWarning: invalid value encountered in line_locate_point\n",
      "  return lib.line_locate_point(line, other)\n",
      "/home/chris/miniconda3/envs/ate/lib/python3.10/site-packages/shapely/linear.py:88: RuntimeWarning: invalid value encountered in line_locate_point\n",
      "  return lib.line_locate_point(line, other)\n"
     ]
    },
    {
     "name": "stdout",
     "output_type": "stream",
     "text": [
      "Num processed : 70\n"
     ]
    },
    {
     "name": "stderr",
     "output_type": "stream",
     "text": [
      "/home/chris/miniconda3/envs/ate/lib/python3.10/site-packages/shapely/linear.py:88: RuntimeWarning: invalid value encountered in line_locate_point\n",
      "  return lib.line_locate_point(line, other)\n",
      "/home/chris/miniconda3/envs/ate/lib/python3.10/site-packages/shapely/linear.py:88: RuntimeWarning: invalid value encountered in line_locate_point\n",
      "  return lib.line_locate_point(line, other)\n"
     ]
    },
    {
     "name": "stdout",
     "output_type": "stream",
     "text": [
      "Num processed : 71\n"
     ]
    },
    {
     "name": "stderr",
     "output_type": "stream",
     "text": [
      "/home/chris/miniconda3/envs/ate/lib/python3.10/site-packages/shapely/linear.py:88: RuntimeWarning: invalid value encountered in line_locate_point\n",
      "  return lib.line_locate_point(line, other)\n",
      "/home/chris/miniconda3/envs/ate/lib/python3.10/site-packages/shapely/linear.py:88: RuntimeWarning: invalid value encountered in line_locate_point\n",
      "  return lib.line_locate_point(line, other)\n"
     ]
    },
    {
     "name": "stdout",
     "output_type": "stream",
     "text": [
      "Num processed : 72\n"
     ]
    },
    {
     "name": "stderr",
     "output_type": "stream",
     "text": [
      "/home/chris/miniconda3/envs/ate/lib/python3.10/site-packages/shapely/linear.py:88: RuntimeWarning: invalid value encountered in line_locate_point\n",
      "  return lib.line_locate_point(line, other)\n",
      "/home/chris/miniconda3/envs/ate/lib/python3.10/site-packages/shapely/linear.py:88: RuntimeWarning: invalid value encountered in line_locate_point\n",
      "  return lib.line_locate_point(line, other)\n"
     ]
    },
    {
     "name": "stdout",
     "output_type": "stream",
     "text": [
      "Num processed : 73\n"
     ]
    },
    {
     "name": "stderr",
     "output_type": "stream",
     "text": [
      "/home/chris/miniconda3/envs/ate/lib/python3.10/site-packages/shapely/linear.py:88: RuntimeWarning: invalid value encountered in line_locate_point\n",
      "  return lib.line_locate_point(line, other)\n",
      "/home/chris/miniconda3/envs/ate/lib/python3.10/site-packages/shapely/linear.py:88: RuntimeWarning: invalid value encountered in line_locate_point\n",
      "  return lib.line_locate_point(line, other)\n"
     ]
    },
    {
     "name": "stdout",
     "output_type": "stream",
     "text": [
      "Num processed : 74\n",
      "Num processed : 75\n"
     ]
    },
    {
     "name": "stderr",
     "output_type": "stream",
     "text": [
      "/home/chris/miniconda3/envs/ate/lib/python3.10/site-packages/shapely/linear.py:88: RuntimeWarning: invalid value encountered in line_locate_point\n",
      "  return lib.line_locate_point(line, other)\n",
      "/home/chris/miniconda3/envs/ate/lib/python3.10/site-packages/shapely/linear.py:88: RuntimeWarning: invalid value encountered in line_locate_point\n",
      "  return lib.line_locate_point(line, other)\n"
     ]
    },
    {
     "name": "stdout",
     "output_type": "stream",
     "text": [
      "Num processed : 76\n"
     ]
    },
    {
     "name": "stderr",
     "output_type": "stream",
     "text": [
      "/home/chris/miniconda3/envs/ate/lib/python3.10/site-packages/shapely/linear.py:88: RuntimeWarning: invalid value encountered in line_locate_point\n",
      "  return lib.line_locate_point(line, other)\n",
      "/home/chris/miniconda3/envs/ate/lib/python3.10/site-packages/shapely/linear.py:88: RuntimeWarning: invalid value encountered in line_locate_point\n",
      "  return lib.line_locate_point(line, other)\n"
     ]
    },
    {
     "name": "stdout",
     "output_type": "stream",
     "text": [
      "Num processed : 77\n"
     ]
    },
    {
     "name": "stderr",
     "output_type": "stream",
     "text": [
      "/home/chris/miniconda3/envs/ate/lib/python3.10/site-packages/shapely/linear.py:88: RuntimeWarning: invalid value encountered in line_locate_point\n",
      "  return lib.line_locate_point(line, other)\n",
      "/home/chris/miniconda3/envs/ate/lib/python3.10/site-packages/shapely/linear.py:88: RuntimeWarning: invalid value encountered in line_locate_point\n",
      "  return lib.line_locate_point(line, other)\n"
     ]
    },
    {
     "name": "stdout",
     "output_type": "stream",
     "text": [
      "Num processed : 78\n"
     ]
    },
    {
     "name": "stderr",
     "output_type": "stream",
     "text": [
      "/home/chris/miniconda3/envs/ate/lib/python3.10/site-packages/shapely/linear.py:88: RuntimeWarning: invalid value encountered in line_locate_point\n",
      "  return lib.line_locate_point(line, other)\n",
      "/home/chris/miniconda3/envs/ate/lib/python3.10/site-packages/shapely/linear.py:88: RuntimeWarning: invalid value encountered in line_locate_point\n",
      "  return lib.line_locate_point(line, other)\n"
     ]
    },
    {
     "name": "stdout",
     "output_type": "stream",
     "text": [
      "Num processed : 79\n"
     ]
    },
    {
     "name": "stderr",
     "output_type": "stream",
     "text": [
      "/home/chris/miniconda3/envs/ate/lib/python3.10/site-packages/shapely/linear.py:88: RuntimeWarning: invalid value encountered in line_locate_point\n",
      "  return lib.line_locate_point(line, other)\n"
     ]
    },
    {
     "name": "stdout",
     "output_type": "stream",
     "text": [
      "Num processed : 80\n"
     ]
    },
    {
     "name": "stderr",
     "output_type": "stream",
     "text": [
      "/home/chris/miniconda3/envs/ate/lib/python3.10/site-packages/shapely/linear.py:88: RuntimeWarning: invalid value encountered in line_locate_point\n",
      "  return lib.line_locate_point(line, other)\n",
      "/home/chris/miniconda3/envs/ate/lib/python3.10/site-packages/shapely/linear.py:88: RuntimeWarning: invalid value encountered in line_locate_point\n",
      "  return lib.line_locate_point(line, other)\n"
     ]
    },
    {
     "name": "stdout",
     "output_type": "stream",
     "text": [
      "Num processed : 81\n"
     ]
    },
    {
     "name": "stderr",
     "output_type": "stream",
     "text": [
      "/home/chris/miniconda3/envs/ate/lib/python3.10/site-packages/shapely/linear.py:88: RuntimeWarning: invalid value encountered in line_locate_point\n",
      "  return lib.line_locate_point(line, other)\n"
     ]
    },
    {
     "name": "stdout",
     "output_type": "stream",
     "text": [
      "Num processed : 82\n"
     ]
    },
    {
     "name": "stderr",
     "output_type": "stream",
     "text": [
      "/home/chris/miniconda3/envs/ate/lib/python3.10/site-packages/shapely/linear.py:88: RuntimeWarning: invalid value encountered in line_locate_point\n",
      "  return lib.line_locate_point(line, other)\n",
      "/home/chris/miniconda3/envs/ate/lib/python3.10/site-packages/shapely/linear.py:88: RuntimeWarning: invalid value encountered in line_locate_point\n",
      "  return lib.line_locate_point(line, other)\n"
     ]
    },
    {
     "name": "stdout",
     "output_type": "stream",
     "text": [
      "Num processed : 83\n"
     ]
    },
    {
     "name": "stderr",
     "output_type": "stream",
     "text": [
      "/home/chris/miniconda3/envs/ate/lib/python3.10/site-packages/shapely/linear.py:88: RuntimeWarning: invalid value encountered in line_locate_point\n",
      "  return lib.line_locate_point(line, other)\n",
      "/home/chris/miniconda3/envs/ate/lib/python3.10/site-packages/shapely/linear.py:88: RuntimeWarning: invalid value encountered in line_locate_point\n",
      "  return lib.line_locate_point(line, other)\n"
     ]
    },
    {
     "name": "stdout",
     "output_type": "stream",
     "text": [
      "Num processed : 84\n",
      "Num processed : 85\n"
     ]
    },
    {
     "name": "stderr",
     "output_type": "stream",
     "text": [
      "/home/chris/miniconda3/envs/ate/lib/python3.10/site-packages/shapely/linear.py:88: RuntimeWarning: invalid value encountered in line_locate_point\n",
      "  return lib.line_locate_point(line, other)\n",
      "/home/chris/miniconda3/envs/ate/lib/python3.10/site-packages/shapely/linear.py:88: RuntimeWarning: invalid value encountered in line_locate_point\n",
      "  return lib.line_locate_point(line, other)\n"
     ]
    },
    {
     "name": "stdout",
     "output_type": "stream",
     "text": [
      "Num processed : 86\n"
     ]
    },
    {
     "name": "stderr",
     "output_type": "stream",
     "text": [
      "/home/chris/miniconda3/envs/ate/lib/python3.10/site-packages/shapely/linear.py:88: RuntimeWarning: invalid value encountered in line_locate_point\n",
      "  return lib.line_locate_point(line, other)\n",
      "/home/chris/miniconda3/envs/ate/lib/python3.10/site-packages/shapely/linear.py:88: RuntimeWarning: invalid value encountered in line_locate_point\n",
      "  return lib.line_locate_point(line, other)\n"
     ]
    },
    {
     "name": "stdout",
     "output_type": "stream",
     "text": [
      "Num processed : 87\n"
     ]
    },
    {
     "name": "stderr",
     "output_type": "stream",
     "text": [
      "/home/chris/miniconda3/envs/ate/lib/python3.10/site-packages/shapely/linear.py:88: RuntimeWarning: invalid value encountered in line_locate_point\n",
      "  return lib.line_locate_point(line, other)\n",
      "/home/chris/miniconda3/envs/ate/lib/python3.10/site-packages/shapely/linear.py:88: RuntimeWarning: invalid value encountered in line_locate_point\n",
      "  return lib.line_locate_point(line, other)\n"
     ]
    },
    {
     "name": "stdout",
     "output_type": "stream",
     "text": [
      "Num processed : 88\n"
     ]
    },
    {
     "name": "stderr",
     "output_type": "stream",
     "text": [
      "/home/chris/miniconda3/envs/ate/lib/python3.10/site-packages/shapely/linear.py:88: RuntimeWarning: invalid value encountered in line_locate_point\n",
      "  return lib.line_locate_point(line, other)\n",
      "/home/chris/miniconda3/envs/ate/lib/python3.10/site-packages/shapely/linear.py:88: RuntimeWarning: invalid value encountered in line_locate_point\n",
      "  return lib.line_locate_point(line, other)\n"
     ]
    },
    {
     "name": "stdout",
     "output_type": "stream",
     "text": [
      "Num processed : 89\n"
     ]
    },
    {
     "name": "stderr",
     "output_type": "stream",
     "text": [
      "/home/chris/miniconda3/envs/ate/lib/python3.10/site-packages/shapely/linear.py:88: RuntimeWarning: invalid value encountered in line_locate_point\n",
      "  return lib.line_locate_point(line, other)\n",
      "/home/chris/miniconda3/envs/ate/lib/python3.10/site-packages/shapely/linear.py:88: RuntimeWarning: invalid value encountered in line_locate_point\n",
      "  return lib.line_locate_point(line, other)\n"
     ]
    },
    {
     "name": "stdout",
     "output_type": "stream",
     "text": [
      "Num processed : 90\n"
     ]
    },
    {
     "name": "stderr",
     "output_type": "stream",
     "text": [
      "/home/chris/miniconda3/envs/ate/lib/python3.10/site-packages/shapely/linear.py:88: RuntimeWarning: invalid value encountered in line_locate_point\n",
      "  return lib.line_locate_point(line, other)\n",
      "/home/chris/miniconda3/envs/ate/lib/python3.10/site-packages/shapely/linear.py:88: RuntimeWarning: invalid value encountered in line_locate_point\n",
      "  return lib.line_locate_point(line, other)\n"
     ]
    },
    {
     "name": "stdout",
     "output_type": "stream",
     "text": [
      "Num processed : 91\n",
      "Num processed : 92\n"
     ]
    },
    {
     "name": "stderr",
     "output_type": "stream",
     "text": [
      "/home/chris/miniconda3/envs/ate/lib/python3.10/site-packages/shapely/linear.py:88: RuntimeWarning: invalid value encountered in line_locate_point\n",
      "  return lib.line_locate_point(line, other)\n",
      "/home/chris/miniconda3/envs/ate/lib/python3.10/site-packages/shapely/linear.py:88: RuntimeWarning: invalid value encountered in line_locate_point\n",
      "  return lib.line_locate_point(line, other)\n"
     ]
    },
    {
     "name": "stdout",
     "output_type": "stream",
     "text": [
      "Num processed : 93\n"
     ]
    },
    {
     "name": "stderr",
     "output_type": "stream",
     "text": [
      "/home/chris/miniconda3/envs/ate/lib/python3.10/site-packages/shapely/linear.py:88: RuntimeWarning: invalid value encountered in line_locate_point\n",
      "  return lib.line_locate_point(line, other)\n",
      "/home/chris/miniconda3/envs/ate/lib/python3.10/site-packages/shapely/linear.py:88: RuntimeWarning: invalid value encountered in line_locate_point\n",
      "  return lib.line_locate_point(line, other)\n"
     ]
    },
    {
     "name": "stdout",
     "output_type": "stream",
     "text": [
      "Num processed : 94\n"
     ]
    },
    {
     "name": "stderr",
     "output_type": "stream",
     "text": [
      "/home/chris/miniconda3/envs/ate/lib/python3.10/site-packages/shapely/linear.py:88: RuntimeWarning: invalid value encountered in line_locate_point\n",
      "  return lib.line_locate_point(line, other)\n",
      "/home/chris/miniconda3/envs/ate/lib/python3.10/site-packages/shapely/linear.py:88: RuntimeWarning: invalid value encountered in line_locate_point\n",
      "  return lib.line_locate_point(line, other)\n"
     ]
    },
    {
     "name": "stdout",
     "output_type": "stream",
     "text": [
      "Num processed : 95\n"
     ]
    },
    {
     "name": "stderr",
     "output_type": "stream",
     "text": [
      "/home/chris/miniconda3/envs/ate/lib/python3.10/site-packages/shapely/linear.py:88: RuntimeWarning: invalid value encountered in line_locate_point\n",
      "  return lib.line_locate_point(line, other)\n"
     ]
    },
    {
     "name": "stdout",
     "output_type": "stream",
     "text": [
      "Num processed : 96\n"
     ]
    },
    {
     "name": "stderr",
     "output_type": "stream",
     "text": [
      "/home/chris/miniconda3/envs/ate/lib/python3.10/site-packages/shapely/linear.py:88: RuntimeWarning: invalid value encountered in line_locate_point\n",
      "  return lib.line_locate_point(line, other)\n",
      "/home/chris/miniconda3/envs/ate/lib/python3.10/site-packages/shapely/linear.py:88: RuntimeWarning: invalid value encountered in line_locate_point\n",
      "  return lib.line_locate_point(line, other)\n"
     ]
    },
    {
     "name": "stdout",
     "output_type": "stream",
     "text": [
      "Num processed : 97\n"
     ]
    },
    {
     "name": "stderr",
     "output_type": "stream",
     "text": [
      "/home/chris/miniconda3/envs/ate/lib/python3.10/site-packages/shapely/linear.py:88: RuntimeWarning: invalid value encountered in line_locate_point\n",
      "  return lib.line_locate_point(line, other)\n",
      "/home/chris/miniconda3/envs/ate/lib/python3.10/site-packages/shapely/linear.py:88: RuntimeWarning: invalid value encountered in line_locate_point\n",
      "  return lib.line_locate_point(line, other)\n"
     ]
    },
    {
     "name": "stdout",
     "output_type": "stream",
     "text": [
      "Num processed : 98\n"
     ]
    },
    {
     "name": "stderr",
     "output_type": "stream",
     "text": [
      "/home/chris/miniconda3/envs/ate/lib/python3.10/site-packages/shapely/linear.py:88: RuntimeWarning: invalid value encountered in line_locate_point\n",
      "  return lib.line_locate_point(line, other)\n"
     ]
    },
    {
     "name": "stdout",
     "output_type": "stream",
     "text": [
      "Num processed : 99\n"
     ]
    },
    {
     "name": "stderr",
     "output_type": "stream",
     "text": [
      "/home/chris/miniconda3/envs/ate/lib/python3.10/site-packages/shapely/linear.py:88: RuntimeWarning: invalid value encountered in line_locate_point\n",
      "  return lib.line_locate_point(line, other)\n",
      "/home/chris/miniconda3/envs/ate/lib/python3.10/site-packages/shapely/linear.py:88: RuntimeWarning: invalid value encountered in line_locate_point\n",
      "  return lib.line_locate_point(line, other)\n"
     ]
    },
    {
     "name": "stdout",
     "output_type": "stream",
     "text": [
      "Num processed : 100\n"
     ]
    },
    {
     "name": "stderr",
     "output_type": "stream",
     "text": [
      "/home/chris/miniconda3/envs/ate/lib/python3.10/site-packages/shapely/linear.py:88: RuntimeWarning: invalid value encountered in line_locate_point\n",
      "  return lib.line_locate_point(line, other)\n",
      "/home/chris/miniconda3/envs/ate/lib/python3.10/site-packages/shapely/linear.py:88: RuntimeWarning: invalid value encountered in line_locate_point\n",
      "  return lib.line_locate_point(line, other)\n"
     ]
    },
    {
     "name": "stdout",
     "output_type": "stream",
     "text": [
      "Num processed : 101\n"
     ]
    },
    {
     "name": "stderr",
     "output_type": "stream",
     "text": [
      "/home/chris/miniconda3/envs/ate/lib/python3.10/site-packages/shapely/linear.py:88: RuntimeWarning: invalid value encountered in line_locate_point\n",
      "  return lib.line_locate_point(line, other)\n",
      "/home/chris/miniconda3/envs/ate/lib/python3.10/site-packages/shapely/linear.py:88: RuntimeWarning: invalid value encountered in line_locate_point\n",
      "  return lib.line_locate_point(line, other)\n"
     ]
    },
    {
     "name": "stdout",
     "output_type": "stream",
     "text": [
      "Num processed : 102\n",
      "Num processed : 103\n"
     ]
    },
    {
     "name": "stderr",
     "output_type": "stream",
     "text": [
      "/home/chris/miniconda3/envs/ate/lib/python3.10/site-packages/shapely/linear.py:88: RuntimeWarning: invalid value encountered in line_locate_point\n",
      "  return lib.line_locate_point(line, other)\n",
      "/home/chris/miniconda3/envs/ate/lib/python3.10/site-packages/shapely/linear.py:88: RuntimeWarning: invalid value encountered in line_locate_point\n",
      "  return lib.line_locate_point(line, other)\n"
     ]
    },
    {
     "name": "stdout",
     "output_type": "stream",
     "text": [
      "Num processed : 104\n"
     ]
    },
    {
     "name": "stderr",
     "output_type": "stream",
     "text": [
      "/home/chris/miniconda3/envs/ate/lib/python3.10/site-packages/shapely/linear.py:88: RuntimeWarning: invalid value encountered in line_locate_point\n",
      "  return lib.line_locate_point(line, other)\n"
     ]
    },
    {
     "name": "stdout",
     "output_type": "stream",
     "text": [
      "Num processed : 105\n"
     ]
    },
    {
     "name": "stderr",
     "output_type": "stream",
     "text": [
      "/home/chris/miniconda3/envs/ate/lib/python3.10/site-packages/shapely/linear.py:88: RuntimeWarning: invalid value encountered in line_locate_point\n",
      "  return lib.line_locate_point(line, other)\n",
      "/home/chris/miniconda3/envs/ate/lib/python3.10/site-packages/shapely/linear.py:88: RuntimeWarning: invalid value encountered in line_locate_point\n",
      "  return lib.line_locate_point(line, other)\n"
     ]
    },
    {
     "name": "stdout",
     "output_type": "stream",
     "text": [
      "Num processed : 106\n"
     ]
    },
    {
     "name": "stderr",
     "output_type": "stream",
     "text": [
      "/home/chris/miniconda3/envs/ate/lib/python3.10/site-packages/shapely/linear.py:88: RuntimeWarning: invalid value encountered in line_locate_point\n",
      "  return lib.line_locate_point(line, other)\n",
      "/home/chris/miniconda3/envs/ate/lib/python3.10/site-packages/shapely/linear.py:88: RuntimeWarning: invalid value encountered in line_locate_point\n",
      "  return lib.line_locate_point(line, other)\n"
     ]
    },
    {
     "name": "stdout",
     "output_type": "stream",
     "text": [
      "Num processed : 107\n"
     ]
    },
    {
     "name": "stderr",
     "output_type": "stream",
     "text": [
      "/home/chris/miniconda3/envs/ate/lib/python3.10/site-packages/shapely/linear.py:88: RuntimeWarning: invalid value encountered in line_locate_point\n",
      "  return lib.line_locate_point(line, other)\n",
      "/home/chris/miniconda3/envs/ate/lib/python3.10/site-packages/shapely/linear.py:88: RuntimeWarning: invalid value encountered in line_locate_point\n",
      "  return lib.line_locate_point(line, other)\n"
     ]
    },
    {
     "name": "stdout",
     "output_type": "stream",
     "text": [
      "Num processed : 108\n"
     ]
    },
    {
     "name": "stderr",
     "output_type": "stream",
     "text": [
      "/home/chris/miniconda3/envs/ate/lib/python3.10/site-packages/shapely/linear.py:88: RuntimeWarning: invalid value encountered in line_locate_point\n",
      "  return lib.line_locate_point(line, other)\n",
      "/home/chris/miniconda3/envs/ate/lib/python3.10/site-packages/shapely/linear.py:88: RuntimeWarning: invalid value encountered in line_locate_point\n",
      "  return lib.line_locate_point(line, other)\n"
     ]
    },
    {
     "name": "stdout",
     "output_type": "stream",
     "text": [
      "Num processed : 109\n"
     ]
    },
    {
     "name": "stderr",
     "output_type": "stream",
     "text": [
      "/home/chris/miniconda3/envs/ate/lib/python3.10/site-packages/shapely/linear.py:88: RuntimeWarning: invalid value encountered in line_locate_point\n",
      "  return lib.line_locate_point(line, other)\n",
      "/home/chris/miniconda3/envs/ate/lib/python3.10/site-packages/shapely/linear.py:88: RuntimeWarning: invalid value encountered in line_locate_point\n",
      "  return lib.line_locate_point(line, other)\n"
     ]
    },
    {
     "name": "stdout",
     "output_type": "stream",
     "text": [
      "Num processed : 110\n"
     ]
    },
    {
     "name": "stderr",
     "output_type": "stream",
     "text": [
      "/home/chris/miniconda3/envs/ate/lib/python3.10/site-packages/shapely/linear.py:88: RuntimeWarning: invalid value encountered in line_locate_point\n",
      "  return lib.line_locate_point(line, other)\n",
      "/home/chris/miniconda3/envs/ate/lib/python3.10/site-packages/shapely/linear.py:88: RuntimeWarning: invalid value encountered in line_locate_point\n",
      "  return lib.line_locate_point(line, other)\n"
     ]
    },
    {
     "name": "stdout",
     "output_type": "stream",
     "text": [
      "Num processed : 111\n"
     ]
    },
    {
     "name": "stderr",
     "output_type": "stream",
     "text": [
      "/home/chris/miniconda3/envs/ate/lib/python3.10/site-packages/shapely/linear.py:88: RuntimeWarning: invalid value encountered in line_locate_point\n",
      "  return lib.line_locate_point(line, other)\n"
     ]
    },
    {
     "name": "stdout",
     "output_type": "stream",
     "text": [
      "Num processed : 112\n"
     ]
    },
    {
     "name": "stderr",
     "output_type": "stream",
     "text": [
      "/home/chris/miniconda3/envs/ate/lib/python3.10/site-packages/shapely/linear.py:88: RuntimeWarning: invalid value encountered in line_locate_point\n",
      "  return lib.line_locate_point(line, other)\n",
      "/home/chris/miniconda3/envs/ate/lib/python3.10/site-packages/shapely/linear.py:88: RuntimeWarning: invalid value encountered in line_locate_point\n",
      "  return lib.line_locate_point(line, other)\n"
     ]
    },
    {
     "name": "stdout",
     "output_type": "stream",
     "text": [
      "Num processed : 113\n"
     ]
    },
    {
     "name": "stderr",
     "output_type": "stream",
     "text": [
      "/home/chris/miniconda3/envs/ate/lib/python3.10/site-packages/shapely/linear.py:88: RuntimeWarning: invalid value encountered in line_locate_point\n",
      "  return lib.line_locate_point(line, other)\n",
      "/home/chris/miniconda3/envs/ate/lib/python3.10/site-packages/shapely/linear.py:88: RuntimeWarning: invalid value encountered in line_locate_point\n",
      "  return lib.line_locate_point(line, other)\n"
     ]
    },
    {
     "name": "stdout",
     "output_type": "stream",
     "text": [
      "Num processed : 114\n"
     ]
    },
    {
     "name": "stderr",
     "output_type": "stream",
     "text": [
      "/home/chris/miniconda3/envs/ate/lib/python3.10/site-packages/shapely/linear.py:88: RuntimeWarning: invalid value encountered in line_locate_point\n",
      "  return lib.line_locate_point(line, other)\n",
      "/home/chris/miniconda3/envs/ate/lib/python3.10/site-packages/shapely/linear.py:88: RuntimeWarning: invalid value encountered in line_locate_point\n",
      "  return lib.line_locate_point(line, other)\n"
     ]
    },
    {
     "name": "stdout",
     "output_type": "stream",
     "text": [
      "Num processed : 115\n"
     ]
    },
    {
     "name": "stderr",
     "output_type": "stream",
     "text": [
      "/home/chris/miniconda3/envs/ate/lib/python3.10/site-packages/shapely/linear.py:88: RuntimeWarning: invalid value encountered in line_locate_point\n",
      "  return lib.line_locate_point(line, other)\n",
      "/home/chris/miniconda3/envs/ate/lib/python3.10/site-packages/shapely/linear.py:88: RuntimeWarning: invalid value encountered in line_locate_point\n",
      "  return lib.line_locate_point(line, other)\n"
     ]
    },
    {
     "name": "stdout",
     "output_type": "stream",
     "text": [
      "Num processed : 116\n"
     ]
    },
    {
     "name": "stderr",
     "output_type": "stream",
     "text": [
      "/home/chris/miniconda3/envs/ate/lib/python3.10/site-packages/shapely/linear.py:88: RuntimeWarning: invalid value encountered in line_locate_point\n",
      "  return lib.line_locate_point(line, other)\n",
      "/home/chris/miniconda3/envs/ate/lib/python3.10/site-packages/shapely/linear.py:88: RuntimeWarning: invalid value encountered in line_locate_point\n",
      "  return lib.line_locate_point(line, other)\n"
     ]
    },
    {
     "name": "stdout",
     "output_type": "stream",
     "text": [
      "Num processed : 117\n"
     ]
    },
    {
     "name": "stderr",
     "output_type": "stream",
     "text": [
      "/home/chris/miniconda3/envs/ate/lib/python3.10/site-packages/shapely/linear.py:88: RuntimeWarning: invalid value encountered in line_locate_point\n",
      "  return lib.line_locate_point(line, other)\n",
      "/home/chris/miniconda3/envs/ate/lib/python3.10/site-packages/shapely/linear.py:88: RuntimeWarning: invalid value encountered in line_locate_point\n",
      "  return lib.line_locate_point(line, other)\n"
     ]
    },
    {
     "name": "stdout",
     "output_type": "stream",
     "text": [
      "Num processed : 118\n"
     ]
    },
    {
     "name": "stderr",
     "output_type": "stream",
     "text": [
      "/home/chris/miniconda3/envs/ate/lib/python3.10/site-packages/shapely/linear.py:88: RuntimeWarning: invalid value encountered in line_locate_point\n",
      "  return lib.line_locate_point(line, other)\n",
      "/home/chris/miniconda3/envs/ate/lib/python3.10/site-packages/shapely/linear.py:88: RuntimeWarning: invalid value encountered in line_locate_point\n",
      "  return lib.line_locate_point(line, other)\n"
     ]
    },
    {
     "name": "stdout",
     "output_type": "stream",
     "text": [
      "Num processed : 119\n"
     ]
    },
    {
     "ename": "KeyError",
     "evalue": "'E01018768'",
     "output_type": "error",
     "traceback": [
      "\u001b[0;31m---------------------------------------------------------------------------\u001b[0m",
      "\u001b[0;31mKeyError\u001b[0m                                  Traceback (most recent call last)",
      "Cell \u001b[0;32mIn[13], line 12\u001b[0m\n\u001b[1;32m      9\u001b[0m base_networks, bbox \u001b[38;5;241m=\u001b[39m set_up_base_maps(lookup,next_lsoa,od_bike,msoas,con,project)\n\u001b[1;32m     11\u001b[0m year \u001b[38;5;241m=\u001b[39m \u001b[38;5;241m2016\u001b[39m\n\u001b[0;32m---> 12\u001b[0m coarse_edges_2016[next_lsoa] \u001b[38;5;241m=\u001b[39m \u001b[43mcoarsen_network\u001b[49m\u001b[43m(\u001b[49m\u001b[43mbase_networks\u001b[49m\u001b[43m[\u001b[49m\u001b[43myear\u001b[49m\u001b[43m]\u001b[49m\u001b[43m[\u001b[49m\u001b[38;5;124;43m'\u001b[39;49m\u001b[38;5;124;43mnodes\u001b[39;49m\u001b[38;5;124;43m'\u001b[39;49m\u001b[43m]\u001b[49m\u001b[43m,\u001b[49m\u001b[43m \u001b[49m\u001b[43mbase_networks\u001b[49m\u001b[43m[\u001b[49m\u001b[43myear\u001b[49m\u001b[43m]\u001b[49m\u001b[43m[\u001b[49m\u001b[38;5;124;43m'\u001b[39;49m\u001b[38;5;124;43mG\u001b[39;49m\u001b[38;5;124;43m'\u001b[39;49m\u001b[43m]\u001b[49m\u001b[43m,\u001b[49m\u001b[43m \u001b[49m\u001b[43mbbox\u001b[49m\u001b[43m,\u001b[49m\u001b[43m \u001b[49m\u001b[43mlsoa_centroids\u001b[49m\u001b[43m,\u001b[49m\u001b[43m \u001b[49m\u001b[43mnext_lsoa\u001b[49m\u001b[43m,\u001b[49m\u001b[43m \u001b[49m\u001b[43mlsoas\u001b[49m\u001b[43m)\u001b[49m\n\u001b[1;32m     13\u001b[0m year \u001b[38;5;241m=\u001b[39m \u001b[38;5;241m2021\u001b[39m\n\u001b[1;32m     14\u001b[0m coarse_edges_2021[next_lsoa] \u001b[38;5;241m=\u001b[39m coarsen_network(base_networks[year][\u001b[38;5;124m'\u001b[39m\u001b[38;5;124mnodes\u001b[39m\u001b[38;5;124m'\u001b[39m], base_networks[year][\u001b[38;5;124m'\u001b[39m\u001b[38;5;124mG\u001b[39m\u001b[38;5;124m'\u001b[39m], bbox, lsoa_centroids, next_lsoa, lsoas)\n",
      "Cell \u001b[0;32mIn[2], line 116\u001b[0m, in \u001b[0;36mcoarsen_network\u001b[0;34m(base_graph_nodes, base_graph, bbox, lsoa_centroids, next_lsoa, lsoas)\u001b[0m\n\u001b[1;32m    112\u001b[0m     paths_lts_3[next_lsoa][d] \u001b[38;5;241m=\u001b[39m []\n\u001b[1;32m    113\u001b[0m     paths_lts_4[next_lsoa][d] \u001b[38;5;241m=\u001b[39m []\n\u001b[0;32m--> 116\u001b[0m origin_nodes \u001b[38;5;241m=\u001b[39m sample_dataframe(\u001b[43marea_to_nodes\u001b[49m\u001b[43m[\u001b[49m\u001b[43mnext_lsoa\u001b[49m\u001b[43m]\u001b[49m,\u001b[38;5;241m4\u001b[39m,\u001b[38;5;241m0.1\u001b[39m)\n\u001b[1;32m    117\u001b[0m \u001b[38;5;28;01mfor\u001b[39;00m next_o_node \u001b[38;5;129;01min\u001b[39;00m \u001b[38;5;28mlist\u001b[39m(origin_nodes[\u001b[38;5;124m'\u001b[39m\u001b[38;5;124mnode\u001b[39m\u001b[38;5;124m'\u001b[39m]):\n\u001b[1;32m    118\u001b[0m     all_sp_lts1 \u001b[38;5;241m=\u001b[39m nx\u001b[38;5;241m.\u001b[39msingle_source_dijkstra_path_length(G_lts1,next_o_node, weight \u001b[38;5;241m=\u001b[39m \u001b[38;5;124m'\u001b[39m\u001b[38;5;124mlength\u001b[39m\u001b[38;5;124m'\u001b[39m)\n",
      "\u001b[0;31mKeyError\u001b[0m: 'E01018768'"
     ]
    }
   ],
   "source": [
    "lsoa_sample = list(lsoas_processed[~lsoas_processed['processed']].sample(2500).index)\n",
    "num_processed = 0\n",
    "\n",
    "for next_lsoa in lsoa_sample:\n",
    "    \n",
    "    num_processed += 1\n",
    "    print('Num processed : {}'.format(num_processed))\n",
    "\n",
    "    base_networks, bbox = set_up_base_maps(lookup,next_lsoa,od_bike,msoas,con,project)\n",
    "\n",
    "    year = 2016\n",
    "    coarse_edges_2016[next_lsoa] = coarsen_network(base_networks[year]['nodes'], base_networks[year]['G'], bbox, lsoa_centroids, next_lsoa, lsoas)\n",
    "    year = 2021\n",
    "    coarse_edges_2021[next_lsoa] = coarsen_network(base_networks[year]['nodes'], base_networks[year]['G'], bbox, lsoa_centroids, next_lsoa, lsoas)\n",
    "\n",
    "    with open('data/coarse_edges_2016.pkl', 'wb') as f:\n",
    "        pickle.dump(coarse_edges_2016, f)\n",
    "\n",
    "    with open('data/coarse_edges_2021.pkl', 'wb') as f:\n",
    "        pickle.dump(coarse_edges_2021, f)\n",
    "\n",
    "    lsoas_processed.loc[next_lsoa,'processed'] = True\n",
    "    lsoas_processed.to_csv('data/lsoas_processed.csv')"
   ]
  },
  {
   "cell_type": "code",
   "execution_count": 24,
   "metadata": {},
   "outputs": [
    {
     "name": "stdout",
     "output_type": "stream",
     "text": [
      "Number Processes : 1\n",
      "2.1168556040430184\n"
     ]
    },
    {
     "name": "stderr",
     "output_type": "stream",
     "text": [
      "/home/chris/miniconda3/envs/ate/lib/python3.10/site-packages/shapely/linear.py:88: RuntimeWarning: invalid value encountered in line_locate_point\n",
      "  return lib.line_locate_point(line, other)\n",
      "/home/chris/miniconda3/envs/ate/lib/python3.10/site-packages/shapely/linear.py:88: RuntimeWarning: invalid value encountered in line_locate_point\n",
      "  return lib.line_locate_point(line, other)\n"
     ]
    },
    {
     "name": "stdout",
     "output_type": "stream",
     "text": [
      "Number Processes : 2\n",
      "5.292231605998219\n"
     ]
    },
    {
     "name": "stderr",
     "output_type": "stream",
     "text": [
      "/home/chris/miniconda3/envs/ate/lib/python3.10/site-packages/shapely/linear.py:88: RuntimeWarning: invalid value encountered in line_locate_point\n",
      "  return lib.line_locate_point(line, other)\n",
      "/home/chris/miniconda3/envs/ate/lib/python3.10/site-packages/shapely/linear.py:88: RuntimeWarning: invalid value encountered in line_locate_point\n",
      "  return lib.line_locate_point(line, other)\n"
     ]
    },
    {
     "name": "stdout",
     "output_type": "stream",
     "text": [
      "Number Processes : 3\n",
      "3.6058599250813113\n"
     ]
    },
    {
     "name": "stderr",
     "output_type": "stream",
     "text": [
      "/home/chris/miniconda3/envs/ate/lib/python3.10/site-packages/shapely/linear.py:88: RuntimeWarning: invalid value encountered in line_locate_point\n",
      "  return lib.line_locate_point(line, other)\n",
      "/home/chris/miniconda3/envs/ate/lib/python3.10/site-packages/shapely/linear.py:88: RuntimeWarning: invalid value encountered in line_locate_point\n",
      "  return lib.line_locate_point(line, other)\n"
     ]
    },
    {
     "name": "stdout",
     "output_type": "stream",
     "text": [
      "Number Processes : 4\n",
      "0.0\n",
      "5.762626053682911\n"
     ]
    },
    {
     "name": "stderr",
     "output_type": "stream",
     "text": [
      "/home/chris/miniconda3/envs/ate/lib/python3.10/site-packages/shapely/linear.py:88: RuntimeWarning: invalid value encountered in line_locate_point\n",
      "  return lib.line_locate_point(line, other)\n",
      "/home/chris/miniconda3/envs/ate/lib/python3.10/site-packages/shapely/linear.py:88: RuntimeWarning: invalid value encountered in line_locate_point\n",
      "  return lib.line_locate_point(line, other)\n"
     ]
    },
    {
     "name": "stdout",
     "output_type": "stream",
     "text": [
      "Number Processes : 5\n",
      "4.3561876213529\n"
     ]
    },
    {
     "name": "stderr",
     "output_type": "stream",
     "text": [
      "/home/chris/miniconda3/envs/ate/lib/python3.10/site-packages/shapely/linear.py:88: RuntimeWarning: invalid value encountered in line_locate_point\n",
      "  return lib.line_locate_point(line, other)\n",
      "/home/chris/miniconda3/envs/ate/lib/python3.10/site-packages/shapely/linear.py:88: RuntimeWarning: invalid value encountered in line_locate_point\n",
      "  return lib.line_locate_point(line, other)\n"
     ]
    },
    {
     "name": "stdout",
     "output_type": "stream",
     "text": [
      "Number Processes : 6\n",
      "31.122866010215148\n"
     ]
    },
    {
     "name": "stderr",
     "output_type": "stream",
     "text": [
      "/home/chris/miniconda3/envs/ate/lib/python3.10/site-packages/shapely/linear.py:88: RuntimeWarning: invalid value encountered in line_locate_point\n",
      "  return lib.line_locate_point(line, other)\n",
      "/home/chris/miniconda3/envs/ate/lib/python3.10/site-packages/shapely/linear.py:88: RuntimeWarning: invalid value encountered in line_locate_point\n",
      "  return lib.line_locate_point(line, other)\n"
     ]
    },
    {
     "name": "stdout",
     "output_type": "stream",
     "text": [
      "Number Processes : 7\n",
      "2.354781819358965\n"
     ]
    },
    {
     "name": "stderr",
     "output_type": "stream",
     "text": [
      "/home/chris/miniconda3/envs/ate/lib/python3.10/site-packages/shapely/linear.py:88: RuntimeWarning: invalid value encountered in line_locate_point\n",
      "  return lib.line_locate_point(line, other)\n",
      "/home/chris/miniconda3/envs/ate/lib/python3.10/site-packages/shapely/linear.py:88: RuntimeWarning: invalid value encountered in line_locate_point\n",
      "  return lib.line_locate_point(line, other)\n"
     ]
    },
    {
     "name": "stdout",
     "output_type": "stream",
     "text": [
      "Number Processes : 8\n",
      "0.0\n",
      "182.04495108731714\n"
     ]
    },
    {
     "name": "stderr",
     "output_type": "stream",
     "text": [
      "/home/chris/miniconda3/envs/ate/lib/python3.10/site-packages/shapely/linear.py:88: RuntimeWarning: invalid value encountered in line_locate_point\n",
      "  return lib.line_locate_point(line, other)\n"
     ]
    },
    {
     "ename": "KeyboardInterrupt",
     "evalue": "",
     "output_type": "error",
     "traceback": [
      "\u001b[0;31m---------------------------------------------------------------------------\u001b[0m",
      "\u001b[0;31mKeyboardInterrupt\u001b[0m                         Traceback (most recent call last)",
      "Cell \u001b[0;32mIn[24], line 30\u001b[0m\n\u001b[1;32m     27\u001b[0m bbox \u001b[38;5;241m=\u001b[39m calculate_haversine_bounding_box(msoas\u001b[38;5;241m.\u001b[39mloc[msoa_id]\u001b[38;5;241m.\u001b[39mcentroid, box_dist)\n\u001b[1;32m     29\u001b[0m od_edges_2016 \u001b[38;5;241m=\u001b[39m get_edges_from_geom(box(\u001b[38;5;241m*\u001b[39m(bbox[\u001b[38;5;124m'\u001b[39m\u001b[38;5;124mmin_lon\u001b[39m\u001b[38;5;124m'\u001b[39m],bbox[\u001b[38;5;124m'\u001b[39m\u001b[38;5;124mmin_lat\u001b[39m\u001b[38;5;124m'\u001b[39m],bbox[\u001b[38;5;124m'\u001b[39m\u001b[38;5;124mmax_lon\u001b[39m\u001b[38;5;124m'\u001b[39m],bbox[\u001b[38;5;124m'\u001b[39m\u001b[38;5;124mmax_lat\u001b[39m\u001b[38;5;124m'\u001b[39m])), con, project, \u001b[38;5;124m'\u001b[39m\u001b[38;5;124mrn2016_roads\u001b[39m\u001b[38;5;124m'\u001b[39m)\n\u001b[0;32m---> 30\u001b[0m G_od_2016, nodes_od_2016, edges_od_2016 \u001b[38;5;241m=\u001b[39m \u001b[43mcreate_graph\u001b[49m\u001b[43m(\u001b[49m\u001b[43mod_edges_2016\u001b[49m\u001b[43m)\u001b[49m\n\u001b[1;32m     32\u001b[0m od_edges_2021 \u001b[38;5;241m=\u001b[39m get_edges_from_geom(box(\u001b[38;5;241m*\u001b[39m(bbox[\u001b[38;5;124m'\u001b[39m\u001b[38;5;124mmin_lon\u001b[39m\u001b[38;5;124m'\u001b[39m],bbox[\u001b[38;5;124m'\u001b[39m\u001b[38;5;124mmin_lat\u001b[39m\u001b[38;5;124m'\u001b[39m],bbox[\u001b[38;5;124m'\u001b[39m\u001b[38;5;124mmax_lon\u001b[39m\u001b[38;5;124m'\u001b[39m],bbox[\u001b[38;5;124m'\u001b[39m\u001b[38;5;124mmax_lat\u001b[39m\u001b[38;5;124m'\u001b[39m])), con, project, \u001b[38;5;124m'\u001b[39m\u001b[38;5;124mrn2021_roads\u001b[39m\u001b[38;5;124m'\u001b[39m)\n\u001b[1;32m     33\u001b[0m G_od_2021, nodes_od_2021, edges_od_2021 \u001b[38;5;241m=\u001b[39m create_graph(od_edges_2021)\n",
      "File \u001b[0;32m~/projects/cycle-network-coarsening/helper_functions.py:225\u001b[0m, in \u001b[0;36mcreate_graph\u001b[0;34m(osm_edges)\u001b[0m\n\u001b[1;32m    223\u001b[0m     edge_features[\u001b[38;5;124m'\u001b[39m\u001b[38;5;124mgeometry\u001b[39m\u001b[38;5;124m'\u001b[39m] \u001b[38;5;241m=\u001b[39m remaining_geom\n\u001b[1;32m    224\u001b[0m     edges_dict[edge_id] \u001b[38;5;241m=\u001b[39m edge_features\n\u001b[0;32m--> 225\u001b[0m     edge_id \u001b[38;5;241m=\u001b[39m \u001b[38;5;28;43mmax\u001b[39;49m\u001b[43m(\u001b[49m\u001b[43medges_dict\u001b[49m\u001b[38;5;241;43m.\u001b[39;49m\u001b[43mkeys\u001b[49m\u001b[43m(\u001b[49m\u001b[43m)\u001b[49m\u001b[43m)\u001b[49m \u001b[38;5;241m+\u001b[39m \u001b[38;5;241m1\u001b[39m\n\u001b[1;32m    227\u001b[0m \u001b[38;5;66;03m# Construct network\u001b[39;00m\n\u001b[1;32m    229\u001b[0m all_edges \u001b[38;5;241m=\u001b[39m pd\u001b[38;5;241m.\u001b[39mDataFrame(edges_dict)\u001b[38;5;241m.\u001b[39mT\n",
      "\u001b[0;31mKeyboardInterrupt\u001b[0m: "
     ]
    }
   ],
   "source": [
    "\n",
    "for next_lsoa in lsoa_sample:\n",
    "    num_processed += 1\n",
    "    print('Number Processes : {}'.format(num_processed))\n",
    "    msoa_id = lookup[lookup['LSOA11CD'] == next_lsoa].iloc[0]['MSOA11CD']\n",
    "    zone_od = od_bike[(od_bike['geo_code1'] == msoa_id)][['geo_code1','geo_code2']]\n",
    "    zone_od_flows = od_bike[od_bike['geo_code1'] == msoa_id]\n",
    "\n",
    "    dest_msoa = zone_od_flows[zone_od_flows['bicycle'] == zone_od_flows['bicycle'].max()]['geo_code2'].values[0]\n",
    "    origin = (msoas.loc[msoa_id].centroid.y, msoas.loc[msoa_id].centroid.x)\n",
    "    destination = (msoas.loc[dest_msoa].centroid.y, msoas.loc[dest_msoa].centroid.x)\n",
    "    distance = calculate_haversine_distance(origin[0], origin[1], destination[0], destination[1])\n",
    "    print(distance)\n",
    "\n",
    "    # Case where 0 get second most popular MSOA and get distance\n",
    "    if distance == 0:\n",
    "        dest_msoa = zone_od_flows[['geo_code2','bicycle']].sort_values('bicycle',ascending = False).iloc[1]['geo_code2']\n",
    "        origin = (msoas.loc[msoa_id].centroid.y, msoas.loc[msoa_id].centroid.x)\n",
    "        destination = (msoas.loc[dest_msoa].centroid.y, msoas.loc[dest_msoa].centroid.x)\n",
    "        distance_to_dest = calculate_haversine_distance(origin[0], origin[1], destination[0], destination[1])\n",
    "        distance = min([15,distance_to_dest])\n",
    "        print(distance)\n",
    "        \n",
    "    box_dist = distance * 1.25\n",
    "\n",
    "\n",
    "    bbox = calculate_haversine_bounding_box(msoas.loc[msoa_id].centroid, box_dist)\n",
    "\n",
    "    od_edges_2016 = get_edges_from_geom(box(*(bbox['min_lon'],bbox['min_lat'],bbox['max_lon'],bbox['max_lat'])), con, project, 'rn2016_roads')\n",
    "    G_od_2016, nodes_od_2016, edges_od_2016 = create_graph(od_edges_2016)\n",
    "\n",
    "    od_edges_2021 = get_edges_from_geom(box(*(bbox['min_lon'],bbox['min_lat'],bbox['max_lon'],bbox['max_lat'])), con, project, 'rn2021_roads')\n",
    "    G_od_2021, nodes_od_2021, edges_od_2021 = create_graph(od_edges_2021)\n",
    "    \n",
    "    base_graph_nodes = nodes_od_2021\n",
    "    base_graph = G_od_2021\n",
    "\n",
    "    od_polygon = gpd.GeoSeries([box(bbox['min_lon'],bbox['min_lat'],bbox['max_lon'],bbox['max_lat'])])\n",
    "    oas_in_area = lsoa_centroids[lsoa_centroids.intersects(od_polygon.unary_union)]\n",
    "\n",
    "    # Network nodes as points\n",
    "    network_node_points_list = []\n",
    "    for i,r in base_graph_nodes.iterrows():\n",
    "        network_node_points_list.append(Point([r['latitude'],r['longitude']]))\n",
    "\n",
    "    base_graph_nodes['geometry'] = network_node_points_list\n",
    "    base_graph_nodes = gpd.GeoDataFrame(base_graph_nodes, geometry = 'geometry')\n",
    "\n",
    "    area_to_nodes = {}\n",
    "    num_nodes_per_oa = []\n",
    "    for oa in list(oas_in_area.index):\n",
    "        oa_geom = gpd.GeoSeries([lsoas.loc[oa]['geometry']])\n",
    "        oa_nodes = base_graph_nodes[base_graph_nodes.intersects(oa_geom.unary_union)]\n",
    "        area_to_nodes[oa] = oa_nodes\n",
    "        num_nodes_per_oa.append(len(oa_nodes))\n",
    "        \n",
    "    #LTS1\n",
    "    lts_1_edges = [(u, v, d) for u, v, d in base_graph.edges(data=True) if d.get('lts', 0) <= 1]\n",
    "    G_lts1 = nx.Graph()\n",
    "    G_lts1.add_nodes_from(base_graph.nodes(data = True))\n",
    "    G_lts1.add_edges_from(lts_1_edges)\n",
    "\n",
    "    #LTS2\n",
    "    lts_2_edges = [(u, v, d) for u, v, d in base_graph.edges(data=True) if d.get('lts', 0) <= 2]\n",
    "    G_lts2 = nx.Graph()\n",
    "    G_lts2.add_nodes_from(base_graph.nodes(data = True))\n",
    "    G_lts2.add_edges_from(lts_2_edges)\n",
    "\n",
    "    #LTS3\n",
    "    lts_3_edges = [(u, v, d) for u, v, d in base_graph.edges(data=True) if d.get('lts', 0) <= 3]\n",
    "    G_lts3 = nx.Graph()\n",
    "    G_lts3.add_nodes_from(base_graph.nodes(data = True))\n",
    "    G_lts3.add_edges_from(lts_3_edges)\n",
    "\n",
    "    #LTS4\n",
    "    lts_4_edges = [(u, v, d) for u, v, d in base_graph.edges(data=True) if d.get('lts', 0) <= 4]\n",
    "    G_lts4 = nx.Graph()\n",
    "    G_lts4.add_nodes_from(base_graph.nodes(data = True))\n",
    "    G_lts4.add_edges_from(lts_4_edges)\n",
    "\n",
    "    oas_in_area_list = list(oas_in_area.index)\n",
    "\n",
    "    paths_lts_1 = {}\n",
    "    paths_lts_2 = {}\n",
    "    paths_lts_3 = {}\n",
    "    paths_lts_4 = {}\n",
    "    operations = 0\n",
    "\n",
    "    for o in oas_in_area_list:\n",
    "        paths_lts_1[o] = {}\n",
    "        paths_lts_2[o] = {}\n",
    "        paths_lts_3[o] = {}\n",
    "        paths_lts_4[o] = {}\n",
    "        for d in oas_in_area_list:\n",
    "            operations += 1\n",
    "            paths_lts_1[o][d] = []\n",
    "            paths_lts_2[o][d] = []\n",
    "            paths_lts_3[o][d] = []\n",
    "            paths_lts_4[o][d] = []\n",
    "            \n",
    "    # Define the original layers as MultiGraphs\n",
    "\n",
    "    o = next_lsoa\n",
    "    origin_nodes = sample_dataframe(area_to_nodes[o],4,0.1)\n",
    "    for next_o_node in list(origin_nodes['node']):\n",
    "        all_sp_lts1 = nx.single_source_dijkstra_path_length(G_lts1,next_o_node, weight = 'length')\n",
    "        operations += 1\n",
    "        all_sp_lts2 = nx.single_source_dijkstra_path_length(G_lts2,next_o_node, weight = 'length')\n",
    "        operations += 1\n",
    "        all_sp_lts3 = nx.single_source_dijkstra_path_length(G_lts3,next_o_node, weight = 'length')\n",
    "        operations += 1\n",
    "        all_sp_lts4 = nx.single_source_dijkstra_path_length(G_lts4,next_o_node, weight = 'length')\n",
    "        operations += 1\n",
    "        \n",
    "        for d in oas_in_area_list:\n",
    "        \n",
    "            operations += 1\n",
    "            \n",
    "            destination_nodes = list(area_to_nodes[d]['node'])\n",
    "\n",
    "            #Add LTS 1 Routes to Dict\n",
    "            paths_to_dest = {key: all_sp_lts1[key] for key in destination_nodes if key in all_sp_lts1}\n",
    "            #Remove 0 elements\n",
    "            paths_to_dest = [element for element in list(paths_to_dest.values()) if element != 0]\n",
    "            #Add found routes to dictionary\n",
    "            paths_lts_1[o][d].extend(paths_to_dest)\n",
    "\n",
    "            #Add LTS 2 Routes to Dict\n",
    "            paths_to_dest = {key: all_sp_lts2[key] for key in destination_nodes if key in all_sp_lts2}\n",
    "            #Remove 0 elements\n",
    "            paths_to_dest = [element for element in list(paths_to_dest.values()) if element != 0]\n",
    "            #Add found routes to dictionary\n",
    "            paths_lts_2[o][d].extend(paths_to_dest)\n",
    "            \n",
    "            #Add LTS 3 Routes to Dict\n",
    "            paths_to_dest = {key: all_sp_lts3[key] for key in destination_nodes if key in all_sp_lts3}\n",
    "            #Remove 0 elements\n",
    "            paths_to_dest = [element for element in list(paths_to_dest.values()) if element != 0]\n",
    "            #Add found routes to dictionary\n",
    "            paths_lts_3[o][d].extend(paths_to_dest)\n",
    "            \n",
    "            #Add LTS 4 Routes to Dict\n",
    "            paths_to_dest = {key: all_sp_lts4[key] for key in destination_nodes if key in all_sp_lts4}\n",
    "            #Remove 0 elements\n",
    "            paths_to_dest = [element for element in list(paths_to_dest.values()) if element != 0]\n",
    "            if len(paths_to_dest) > 0:\n",
    "                #Add found routes to dictionary\n",
    "                paths_lts_4[o][d].extend(paths_to_dest)\n",
    "                \n",
    "    dist_dict = {}\n",
    "\n",
    "    o = next_lsoa\n",
    "    for d in oas_in_area_list:\n",
    "        distances = []\n",
    "        if len(paths_lts_1[o][d]) > 0:\n",
    "            distances.append(mean_of_list(paths_lts_1[o][d]))\n",
    "        else:\n",
    "            distances.append(0)\n",
    "\n",
    "        if len(paths_lts_2[o][d]) > 0:\n",
    "            distances.append(mean_of_list(paths_lts_2[o][d]))\n",
    "        else:\n",
    "            distances.append(0)\n",
    "\n",
    "        if len(paths_lts_3[o][d]) > 0:\n",
    "            distances.append(mean_of_list(paths_lts_3[o][d]))\n",
    "        else:\n",
    "            distances.append(0)\n",
    "            \n",
    "        if len(paths_lts_4[o][d]) > 0:\n",
    "            distances.append(mean_of_list(paths_lts_4[o][d]))\n",
    "        else:\n",
    "            distances.append(0)\n",
    "        \n",
    "        dist_dict[d] = distances\n",
    "        \n",
    "    coarse_edges[o] = dist_dict"
   ]
  }
 ],
 "metadata": {
  "kernelspec": {
   "display_name": "ate",
   "language": "python",
   "name": "python3"
  },
  "language_info": {
   "codemirror_mode": {
    "name": "ipython",
    "version": 3
   },
   "file_extension": ".py",
   "mimetype": "text/x-python",
   "name": "python",
   "nbconvert_exporter": "python",
   "pygments_lexer": "ipython3",
   "version": "3.10.13"
  }
 },
 "nbformat": 4,
 "nbformat_minor": 2
}
